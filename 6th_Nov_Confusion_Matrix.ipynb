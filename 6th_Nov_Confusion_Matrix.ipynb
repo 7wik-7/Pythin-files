{
  "nbformat": 4,
  "nbformat_minor": 0,
  "metadata": {
    "colab": {
      "name": "6th Nov Confusion Matrix.ipynb",
      "provenance": [],
      "collapsed_sections": []
    },
    "kernelspec": {
      "name": "python3",
      "display_name": "Python 3"
    }
  },
  "cells": [
    {
      "cell_type": "code",
      "metadata": {
        "id": "sBTxiG-WikpM"
      },
      "source": [
        "# Please read this article - https://en.wikipedia.org/wiki/Confusion_matrix"
      ],
      "execution_count": null,
      "outputs": []
    },
    {
      "cell_type": "code",
      "metadata": {
        "id": "DRa9c401M9AZ"
      },
      "source": [
        "# cats belong to class 1 and dogs belong to class 0\n",
        "actual     = [1,1,1,1,1,1,1,1,0,0,0,0,0]\n",
        "prediction = [0,0,0,1,1,1,1,1,0,0,0,1,1]"
      ],
      "execution_count": null,
      "outputs": []
    },
    {
      "cell_type": "code",
      "metadata": {
        "id": "ggK9h9ceOqzN"
      },
      "source": [
        "#                Actual\n",
        "#            Cat  |   Dog \n",
        "#PREDI  Cat   5   |    2   | 7\n",
        "#CTED   Dog   3   |    3   | 6\n",
        "# ----------------------------\n",
        "#Total        8   |    5"
      ],
      "execution_count": null,
      "outputs": []
    },
    {
      "cell_type": "code",
      "metadata": {
        "id": "iB5VnuVFQehg"
      },
      "source": [
        "# Ideal world scenario\n",
        "#   8 | 0 \n",
        "#   0 | 5 "
      ],
      "execution_count": null,
      "outputs": []
    },
    {
      "cell_type": "code",
      "metadata": {
        "id": "32vZJ76nVfeQ"
      },
      "source": [
        "#          Actual \n",
        "#          P   |   N\n",
        "#PREDI  P  TP  |  FP\n",
        "#CTED   N  FN  |  TN\n",
        "# ----------------------\n",
        "# TP - True  Positive     # It was actually Positive and the model is True\n",
        "# TN - True  Negative     # It was actually Negative and the model is True\n",
        "# FN - False Negative     # It was actually Positive but the model is False \n",
        "# FP - False Positive     # It was actually Negative but the model is False"
      ],
      "execution_count": null,
      "outputs": []
    },
    {
      "cell_type": "code",
      "metadata": {
        "id": "8Naf417dR04j"
      },
      "source": [
        "#                Actual\n",
        "#            Yes  |   No \n",
        "#PREDI  Yes   5   |    2   | 7\n",
        "#CTED   No    3   |    3   | 6\n",
        "# ----------------------------\n",
        "#Total        8   |    5"
      ],
      "execution_count": null,
      "outputs": []
    },
    {
      "cell_type": "code",
      "metadata": {
        "id": "muWT5nm5Sdxa"
      },
      "source": [
        "# --- Cats ----\n",
        "# 5/8 5 predicted 8 actual   <<Recall>>\n",
        "# 5/7 5 predicted 7 model    <<Precision>> \n",
        "# Precision(Cat) - What accurately your model gave answer ?\n",
        "#                  Model said 7 cats but actually only 5 were cats \n",
        "#                  Precision = 5/7\n",
        "# Recall(Cat)    - What accuractly we founf the answer ? \n",
        "#                  Actaully 8 cats were present out of which 5 were detected  \n",
        "#                  Recall = 5/8\n",
        "# Recall (Dog)      - 3/5\n",
        "# Precision (Dog)   - 3/6"
      ],
      "execution_count": null,
      "outputs": []
    },
    {
      "cell_type": "code",
      "metadata": {
        "id": "zhSESBuWUr3N"
      },
      "source": [
        "#50 |  10 \n",
        "# 5 | 100\n",
        "\n",
        "# P = 55   ,N = 110 \n",
        "# TP=50 , TN= 100, FP= 10, FN= 5\n",
        "\n",
        "# For positive \n",
        "# Recall = 50/55\n",
        "# Precision = 50/60 \n",
        "\n",
        "# For negative\n",
        "# Recall = 100/110\n",
        "# Precision = 100/105"
      ],
      "execution_count": null,
      "outputs": []
    },
    {
      "cell_type": "code",
      "metadata": {
        "id": "rFLVWCynbT-B",
        "outputId": "9871b1e2-2766-4c06-eb53-39436a93d69a",
        "colab": {
          "base_uri": "https://localhost:8080/"
        }
      },
      "source": [
        "(99 + 99 + 45 + 36 + 90)/500"
      ],
      "execution_count": null,
      "outputs": [
        {
          "output_type": "execute_result",
          "data": {
            "text/plain": [
              "0.738"
            ]
          },
          "metadata": {
            "tags": []
          },
          "execution_count": 7
        }
      ]
    },
    {
      "cell_type": "code",
      "metadata": {
        "id": "A9VlCS-CbXnD"
      },
      "source": [
        "# N - 10 | 30 | 10/10 - Recall | 10/30 - Precision\n",
        "# M - 15 | 0  |                |\n",
        "# P -  5 | 0  |                |"
      ],
      "execution_count": null,
      "outputs": []
    },
    {
      "cell_type": "code",
      "metadata": {
        "id": "SlWp2OdNcPSq"
      },
      "source": [
        "#       N | M |  P \n",
        "# N    10 | 15|  5 | 30\n",
        "# M     0 |  0|  0 |  0\n",
        "# P     0 |  0|  0 |  0\n",
        "#---------------------\n",
        "#      10 | 15 |  5| \n",
        "# N - Recall - 10/10    , Precision - 10/30 \n",
        "# M - Recall - 0/15     , Precision -  0/0    \n",
        "# P - Recall - 0/5      , Precision -  0/0  "
      ],
      "execution_count": null,
      "outputs": []
    },
    {
      "cell_type": "code",
      "metadata": {
        "id": "3yoXq5wUe5Ib"
      },
      "source": [
        "#AP - 2,4,6,8,10,12,14\n",
        "#GP - 2,4,8,16,32,64,128,256\n",
        "#HP - "
      ],
      "execution_count": null,
      "outputs": []
    },
    {
      "cell_type": "code",
      "metadata": {
        "id": "-TGr_LwUePMy"
      },
      "source": [
        "# F1 Score - It is a combition of both Recall & Precision \n",
        "# HM(harmonic mean) of recall and precision "
      ],
      "execution_count": null,
      "outputs": []
    },
    {
      "cell_type": "code",
      "metadata": {
        "id": "1hzzbwJMfdrS"
      },
      "source": [
        "from sklearn.metrics import classification_report"
      ],
      "execution_count": null,
      "outputs": []
    },
    {
      "cell_type": "code",
      "metadata": {
        "id": "RXyMw1fjfkrC",
        "outputId": "e4bcd907-4eff-4e50-803d-d6b875cd03cd",
        "colab": {
          "base_uri": "https://localhost:8080/"
        }
      },
      "source": [
        "print(classification_report(actual, prediction))"
      ],
      "execution_count": null,
      "outputs": [
        {
          "output_type": "stream",
          "text": [
            "              precision    recall  f1-score   support\n",
            "\n",
            "           0       0.50      0.60      0.55         5\n",
            "           1       0.71      0.62      0.67         8\n",
            "\n",
            "    accuracy                           0.62        13\n",
            "   macro avg       0.61      0.61      0.61        13\n",
            "weighted avg       0.63      0.62      0.62        13\n",
            "\n"
          ],
          "name": "stdout"
        }
      ]
    },
    {
      "cell_type": "code",
      "metadata": {
        "id": "U_QybVAWfnIP"
      },
      "source": [
        "# ROC - Reciever Operator Characterstics\n",
        "# AUC - Area under the curve"
      ],
      "execution_count": null,
      "outputs": []
    },
    {
      "cell_type": "code",
      "metadata": {
        "id": "hkOHP0_Qgy2U"
      },
      "source": [
        "# ROC - TP Vs FP"
      ],
      "execution_count": null,
      "outputs": []
    },
    {
      "cell_type": "code",
      "metadata": {
        "id": "ahKJSMimjEzv"
      },
      "source": [
        "from sklearn.metrics import roc_auc_score, roc_curve"
      ],
      "execution_count": null,
      "outputs": []
    },
    {
      "cell_type": "code",
      "metadata": {
        "id": "AVuP9CuqjLdk",
        "outputId": "67d6d047-21fe-4073-dfbb-4a59da0d93de",
        "colab": {
          "base_uri": "https://localhost:8080/"
        }
      },
      "source": [
        "roc_auc_score(actual, prediction)"
      ],
      "execution_count": null,
      "outputs": [
        {
          "output_type": "execute_result",
          "data": {
            "text/plain": [
              "0.6125"
            ]
          },
          "metadata": {
            "tags": []
          },
          "execution_count": 19
        }
      ]
    },
    {
      "cell_type": "code",
      "metadata": {
        "id": "HL4ukrSXjXO5"
      },
      "source": [
        "x_, y_, _ = roc_curve(actual, prediction, )"
      ],
      "execution_count": null,
      "outputs": []
    },
    {
      "cell_type": "code",
      "metadata": {
        "id": "T5x0DnZ_jrra",
        "outputId": "814a779b-971c-4a6a-93bd-f19a5e83a566",
        "colab": {
          "base_uri": "https://localhost:8080/",
          "height": 282
        }
      },
      "source": [
        "import matplotlib.pyplot as plt\n",
        "plt.plot(x_, y_)"
      ],
      "execution_count": null,
      "outputs": [
        {
          "output_type": "execute_result",
          "data": {
            "text/plain": [
              "[<matplotlib.lines.Line2D at 0x7f92733e4080>]"
            ]
          },
          "metadata": {
            "tags": []
          },
          "execution_count": 25
        },
        {
          "output_type": "display_data",
          "data": {
            "image/png": "[encoded data removed]",
            "text/plain": [
              "<Figure size 432x288 with 1 Axes>"
            ]
          },
          "metadata": {
            "tags": [],
            "needs_background": "light"
          }
        }
      ]
    },
    {
      "cell_type": "code",
      "metadata": {
        "id": "UAgei9dthMba"
      },
      "source": [
        "# Decision Tree (DT)"
      ],
      "execution_count": null,
      "outputs": []
    },
    {
      "cell_type": "code",
      "metadata": {
        "id": "yM6hUuNNisG5"
      },
      "source": [
        ""
      ],
      "execution_count": null,
      "outputs": []
    }
  ]
}