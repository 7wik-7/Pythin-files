{
  "nbformat": 4,
  "nbformat_minor": 0,
  "metadata": {
    "colab": {
      "name": "30th Oct TypeOfML & Regression.ipynb",
      "provenance": [],
      "collapsed_sections": []
    },
    "kernelspec": {
      "name": "python3",
      "display_name": "Python 3"
    }
  },
  "cells": [
    {
      "cell_type": "code",
      "metadata": {
        "id": "EBhO0C_uKnqg"
      },
      "source": [
        "import pandas as pd\n",
        "import numpy as np "
      ],
      "execution_count": 1,
      "outputs": []
    },
    {
      "cell_type": "code",
      "metadata": {
        "id": "AJ2Y9V1eLxms"
      },
      "source": [
        "df = pd.DataFrame(columns=[\"Gender\", \"Continent\", \"Score\"])"
      ],
      "execution_count": 2,
      "outputs": []
    },
    {
      "cell_type": "code",
      "metadata": {
        "id": "3idhQ5xAL6kO"
      },
      "source": [
        "df[\"Gender\"] = [np.random.choice([\"Male\", \"Female\", \"Other\"]) for i in range(30)]\n",
        "df[\"Continent\"] = [np.random.choice([\"Asia\", \"NA\", \"SA\", \"Africa\", \"Europe\", \"China\", \"Australia\"]) for i in range(30)]\n",
        "df[\"Score\"] = np.random.randint(0, 10, 30)"
      ],
      "execution_count": 3,
      "outputs": []
    },
    {
      "cell_type": "code",
      "metadata": {
        "id": "GBDlnJrKMXo_",
        "outputId": "d83f47b8-d19c-4bbf-a804-87390f7c63b8",
        "colab": {
          "base_uri": "https://localhost:8080/",
          "height": 205
        }
      },
      "source": [
        "df.head()"
      ],
      "execution_count": 4,
      "outputs": [
        {
          "output_type": "execute_result",
          "data": {
            "text/html": [
              "<div>\n",
              "<style scoped>\n",
              "    .dataframe tbody tr th:only-of-type {\n",
              "        vertical-align: middle;\n",
              "    }\n",
              "\n",
              "    .dataframe tbody tr th {\n",
              "        vertical-align: top;\n",
              "    }\n",
              "\n",
              "    .dataframe thead th {\n",
              "        text-align: right;\n",
              "    }\n",
              "</style>\n",
              "<table border=\"1\" class=\"dataframe\">\n",
              "  <thead>\n",
              "    <tr style=\"text-align: right;\">\n",
              "      <th></th>\n",
              "      <th>Gender</th>\n",
              "      <th>Continent</th>\n",
              "      <th>Score</th>\n",
              "    </tr>\n",
              "  </thead>\n",
              "  <tbody>\n",
              "    <tr>\n",
              "      <th>0</th>\n",
              "      <td>Male</td>\n",
              "      <td>Africa</td>\n",
              "      <td>5</td>\n",
              "    </tr>\n",
              "    <tr>\n",
              "      <th>1</th>\n",
              "      <td>Male</td>\n",
              "      <td>SA</td>\n",
              "      <td>4</td>\n",
              "    </tr>\n",
              "    <tr>\n",
              "      <th>2</th>\n",
              "      <td>Male</td>\n",
              "      <td>Europe</td>\n",
              "      <td>6</td>\n",
              "    </tr>\n",
              "    <tr>\n",
              "      <th>3</th>\n",
              "      <td>Other</td>\n",
              "      <td>SA</td>\n",
              "      <td>8</td>\n",
              "    </tr>\n",
              "    <tr>\n",
              "      <th>4</th>\n",
              "      <td>Male</td>\n",
              "      <td>Australia</td>\n",
              "      <td>4</td>\n",
              "    </tr>\n",
              "  </tbody>\n",
              "</table>\n",
              "</div>"
            ],
            "text/plain": [
              "  Gender  Continent  Score\n",
              "0   Male     Africa      5\n",
              "1   Male         SA      4\n",
              "2   Male     Europe      6\n",
              "3  Other         SA      8\n",
              "4   Male  Australia      4"
            ]
          },
          "metadata": {
            "tags": []
          },
          "execution_count": 4
        }
      ]
    },
    {
      "cell_type": "code",
      "metadata": {
        "id": "p13Z_XtQMYWc",
        "outputId": "19c56d35-c4ea-43b1-e714-450de31c1c34",
        "colab": {
          "base_uri": "https://localhost:8080/",
          "height": 174
        }
      },
      "source": [
        "pd.crosstab(df.Gender, df.Continent, df.Score, aggfunc=np.mean)"
      ],
      "execution_count": 7,
      "outputs": [
        {
          "output_type": "execute_result",
          "data": {
            "text/html": [
              "<div>\n",
              "<style scoped>\n",
              "    .dataframe tbody tr th:only-of-type {\n",
              "        vertical-align: middle;\n",
              "    }\n",
              "\n",
              "    .dataframe tbody tr th {\n",
              "        vertical-align: top;\n",
              "    }\n",
              "\n",
              "    .dataframe thead th {\n",
              "        text-align: right;\n",
              "    }\n",
              "</style>\n",
              "<table border=\"1\" class=\"dataframe\">\n",
              "  <thead>\n",
              "    <tr style=\"text-align: right;\">\n",
              "      <th>Continent</th>\n",
              "      <th>Africa</th>\n",
              "      <th>Asia</th>\n",
              "      <th>Australia</th>\n",
              "      <th>China</th>\n",
              "      <th>Europe</th>\n",
              "      <th>NA</th>\n",
              "      <th>SA</th>\n",
              "    </tr>\n",
              "    <tr>\n",
              "      <th>Gender</th>\n",
              "      <th></th>\n",
              "      <th></th>\n",
              "      <th></th>\n",
              "      <th></th>\n",
              "      <th></th>\n",
              "      <th></th>\n",
              "      <th></th>\n",
              "    </tr>\n",
              "  </thead>\n",
              "  <tbody>\n",
              "    <tr>\n",
              "      <th>Female</th>\n",
              "      <td>2.0</td>\n",
              "      <td>2.0</td>\n",
              "      <td>2.5</td>\n",
              "      <td>NaN</td>\n",
              "      <td>NaN</td>\n",
              "      <td>0.0</td>\n",
              "      <td>5.333333</td>\n",
              "    </tr>\n",
              "    <tr>\n",
              "      <th>Male</th>\n",
              "      <td>4.0</td>\n",
              "      <td>5.0</td>\n",
              "      <td>4.0</td>\n",
              "      <td>3.666667</td>\n",
              "      <td>7.0</td>\n",
              "      <td>4.0</td>\n",
              "      <td>5.000000</td>\n",
              "    </tr>\n",
              "    <tr>\n",
              "      <th>Other</th>\n",
              "      <td>8.0</td>\n",
              "      <td>5.0</td>\n",
              "      <td>NaN</td>\n",
              "      <td>9.000000</td>\n",
              "      <td>6.0</td>\n",
              "      <td>0.0</td>\n",
              "      <td>5.250000</td>\n",
              "    </tr>\n",
              "  </tbody>\n",
              "</table>\n",
              "</div>"
            ],
            "text/plain": [
              "Continent  Africa  Asia  Australia     China  Europe   NA        SA\n",
              "Gender                                                             \n",
              "Female        2.0   2.0        2.5       NaN     NaN  0.0  5.333333\n",
              "Male          4.0   5.0        4.0  3.666667     7.0  4.0  5.000000\n",
              "Other         8.0   5.0        NaN  9.000000     6.0  0.0  5.250000"
            ]
          },
          "metadata": {
            "tags": []
          },
          "execution_count": 7
        }
      ]
    },
    {
      "cell_type": "code",
      "metadata": {
        "id": "ob7r4_qbMjon"
      },
      "source": [
        "# array([[[[12, 22],\n",
        "#          [25, 24]],\n",
        "\n",
        "#         [[ 2, 12],\n",
        "#          [21, 19]],\n",
        "\n",
        "#         [[ 3, 29],\n",
        "#          [ 3,  6]]]])\n",
        "# Shape 1,3,2,2\n",
        "# #[0,1,1,1] - 19"
      ],
      "execution_count": 8,
      "outputs": []
    },
    {
      "cell_type": "code",
      "metadata": {
        "id": "HjdZcDNLO96Y",
        "outputId": "d9fc3c77-8843-4028-af5b-de59ec403c56",
        "colab": {
          "base_uri": "https://localhost:8080/"
        }
      },
      "source": [
        "np.array([[[0]]]).shape"
      ],
      "execution_count": 11,
      "outputs": [
        {
          "output_type": "execute_result",
          "data": {
            "text/plain": [
              "(1, 1, 1)"
            ]
          },
          "metadata": {
            "tags": []
          },
          "execution_count": 11
        }
      ]
    },
    {
      "cell_type": "code",
      "metadata": {
        "id": "oENFUMY5Pua5"
      },
      "source": [
        "# Types of Machine learning\n",
        "# 1. Supervised ML\n",
        "#   1.1. Classification\n",
        "#   1.2. Regression\n",
        "# 2. Unsupervised ML (Clustering) \n",
        "# 3. Reinfrocement Learning"
      ],
      "execution_count": 12,
      "outputs": []
    },
    {
      "cell_type": "code",
      "metadata": {
        "id": "kpyms9ijQr9b"
      },
      "source": [
        "# 1. Supervised Learning - The output is available while training the data. \n",
        "# Sq.Feet | # of Rooms | # of Bedrooms | Parking | Price of House (output/dependent variable)\n",
        "\n",
        "# 2. Unsupervised Learning - The output column is not available while training the data.\n",
        "# Sq.Feet | # of Rooms | # of Bedrooms | Parking  \n",
        "\n",
        "# In this case when we dont have output \"Price of House\" the unsupervised learning will not \n",
        "# predict the price rather it will cluster similar houses together. \n",
        "\n",
        "# Example - Customer Segmentation \n",
        "\n",
        "# 3. Reinforcement Learning "
      ],
      "execution_count": 13,
      "outputs": []
    },
    {
      "cell_type": "code",
      "metadata": {
        "id": "OpT4yWIubwmf"
      },
      "source": [
        "# 1. Supervised Learning \n",
        "# 1.1. Classification - When the output of ML is categorical in nature\n",
        "# 1.2. Regression  - When the output of ML is continuous in nature"
      ],
      "execution_count": 14,
      "outputs": []
    },
    {
      "cell_type": "code",
      "metadata": {
        "id": "WtUoojF2cahl"
      },
      "source": [
        "# Example -> House Price - Regression\n",
        "#         -> Weather prediciton (Cloudy/Rainy/Sunny) - Classification\n",
        "#         -> Temperature Prediction -Regression   "
      ],
      "execution_count": 15,
      "outputs": []
    },
    {
      "cell_type": "code",
      "metadata": {
        "id": "haXr7Dnhd6I4"
      },
      "source": [
        "# Regression algorithm - \n",
        "# 1. Linear Regression\n",
        "\n",
        "# Classification algorithm - \n",
        "# 1. Logistic Regression\n",
        "# 2. Decision Trees\n",
        "# 3. Random Forest \n",
        "# 4. Boosted Models (XGBoost)\n",
        "# 5. SVM\n",
        "\n",
        "# Unsupervised algorithms -\n",
        "# 1. KMeans\n",
        "# 2. DBScan "
      ],
      "execution_count": 16,
      "outputs": []
    },
    {
      "cell_type": "code",
      "metadata": {
        "id": "W-Y93yCed9Gs"
      },
      "source": [
        "# Ensemble - Do predictions based on multiple models (but combine similar type of model)\n",
        "# Regression based model cant be joined with Classification based "
      ],
      "execution_count": null,
      "outputs": []
    }
  ]
}