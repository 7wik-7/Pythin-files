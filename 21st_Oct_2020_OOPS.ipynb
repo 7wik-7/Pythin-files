{
  "nbformat": 4,
  "nbformat_minor": 0,
  "metadata": {
    "colab": {
      "name": "21st Oct 2020 OOPS.ipynb",
      "provenance": [],
      "collapsed_sections": []
    },
    "kernelspec": {
      "name": "python3",
      "display_name": "Python 3"
    }
  },
  "cells": [
    {
      "cell_type": "code",
      "metadata": {
        "id": "wAsn4uQQzfIq"
      },
      "source": [
        "# OOP - Object Oriented Programming\n",
        "\n",
        "# 1. Inheritence - can be defined as the process where one class acquires the property of another class\n",
        "# With the help of inheritence the information is made managable in hierarchial format.\n",
        "\n",
        "# 2. Abstraction - it is the process of hiding the complex implementation details from user. \n",
        "\n",
        "# 3. Encapsulation \n",
        "\n",
        "# 4. Polymorphism"
      ],
      "execution_count": null,
      "outputs": []
    },
    {
      "cell_type": "code",
      "metadata": {
        "id": "ATH8zbXfz_rA"
      },
      "source": [
        "# Parent Class\n",
        "class Animal:\n",
        "  def __init__(self, name):\n",
        "    self.name = name\n",
        "    self.legs = None\n",
        "    self.some_attribute = \"some_attribute\"\n",
        "  def some_func_in_parent(self):\n",
        "    return \"some_func_in_parent\"\n",
        "  def set_legs(self, legs):\n",
        "    self.legs = legs"
      ],
      "execution_count": null,
      "outputs": []
    },
    {
      "cell_type": "code",
      "metadata": {
        "id": "F8oNlq7u2VVX"
      },
      "source": [
        "# Child Class\n",
        "class Dog(Animal):\n",
        "  def __init__(self, name, breed):\n",
        "    super().__init__(name)       # super is a reserved keyword to call parent class \n",
        "    self.bark = \"YES\"\n",
        "    self.legs = 4\n",
        "    self.breed = breed\n",
        "  def some_func_in_child(self):\n",
        "    return \"some_func_in_child\""
      ],
      "execution_count": null,
      "outputs": []
    },
    {
      "cell_type": "code",
      "metadata": {
        "id": "5zInApGJ8fcT"
      },
      "source": [
        "# this line \"super().__init__(name)\" is actually calling the parent class of Dog class and calling its constructor\n",
        "# And it is equal to Animal().__init__(name)"
      ],
      "execution_count": null,
      "outputs": []
    },
    {
      "cell_type": "code",
      "metadata": {
        "id": "KQTCM_jc2rBw"
      },
      "source": [
        "d1 = Dog(\"dog1_name\", \"GR\")"
      ],
      "execution_count": null,
      "outputs": []
    },
    {
      "cell_type": "code",
      "metadata": {
        "id": "WGvax1J145nL",
        "outputId": "ab589aa0-aef0-4451-fbbc-d42e58e04ffd",
        "colab": {
          "base_uri": "https://localhost:8080/",
          "height": 34
        }
      },
      "source": [
        "d1.legs    # because CHILDS override the parent attributes "
      ],
      "execution_count": null,
      "outputs": [
        {
          "output_type": "execute_result",
          "data": {
            "text/plain": [
              "4"
            ]
          },
          "metadata": {
            "tags": []
          },
          "execution_count": 21
        }
      ]
    },
    {
      "cell_type": "code",
      "metadata": {
        "id": "GFoxv5w97Wzz",
        "outputId": "de2b731c-7c96-40d3-a250-3827f00154d2",
        "colab": {
          "base_uri": "https://localhost:8080/",
          "height": 35
        }
      },
      "source": [
        "d1.name"
      ],
      "execution_count": null,
      "outputs": [
        {
          "output_type": "execute_result",
          "data": {
            "application/vnd.google.colaboratory.intrinsic+json": {
              "type": "string"
            },
            "text/plain": [
              "'dog1_name'"
            ]
          },
          "metadata": {
            "tags": []
          },
          "execution_count": 25
        }
      ]
    },
    {
      "cell_type": "code",
      "metadata": {
        "id": "dyh3QGU04-W0",
        "outputId": "2acaad23-3bfb-4e2c-a45e-c03c50f04edb",
        "colab": {
          "base_uri": "https://localhost:8080/",
          "height": 35
        }
      },
      "source": [
        "d1.some_func_in_parent()"
      ],
      "execution_count": null,
      "outputs": [
        {
          "output_type": "execute_result",
          "data": {
            "application/vnd.google.colaboratory.intrinsic+json": {
              "type": "string"
            },
            "text/plain": [
              "'some_func_in_parent'"
            ]
          },
          "metadata": {
            "tags": []
          },
          "execution_count": 22
        }
      ]
    },
    {
      "cell_type": "code",
      "metadata": {
        "id": "83nhMYu15zgx",
        "outputId": "ba65911f-2ddd-40af-f42f-5a7c845e0e2b",
        "colab": {
          "base_uri": "https://localhost:8080/",
          "height": 35
        }
      },
      "source": [
        "d1.some_func_in_child()"
      ],
      "execution_count": null,
      "outputs": [
        {
          "output_type": "execute_result",
          "data": {
            "application/vnd.google.colaboratory.intrinsic+json": {
              "type": "string"
            },
            "text/plain": [
              "'some_func_in_child'"
            ]
          },
          "metadata": {
            "tags": []
          },
          "execution_count": 23
        }
      ]
    },
    {
      "cell_type": "code",
      "metadata": {
        "id": "qFkT6aci6GBX"
      },
      "source": [
        "#  ----->   GET HELP ON JUPYTER   <--------- \n",
        "# 1. Class or Function \n",
        "# Dog() write the function name and make ( ) and press Shift + Tab\n",
        "\n",
        "# 2. To get attribitues of a object \n",
        "# d1.   type object name and press . and then press Tab"
      ],
      "execution_count": null,
      "outputs": []
    },
    {
      "cell_type": "code",
      "metadata": {
        "id": "5pkJlLQZ6Rtx"
      },
      "source": [
        "d2 = Dog(\"dog2_name\", \"GS\")"
      ],
      "execution_count": null,
      "outputs": []
    },
    {
      "cell_type": "code",
      "metadata": {
        "id": "a9VNaMUy9Whk",
        "outputId": "c0d6a9d5-c7e5-4450-e547-0c0dbc0ef99e",
        "colab": {
          "base_uri": "https://localhost:8080/",
          "height": 35
        }
      },
      "source": [
        "d2.some_attribute"
      ],
      "execution_count": null,
      "outputs": [
        {
          "output_type": "execute_result",
          "data": {
            "application/vnd.google.colaboratory.intrinsic+json": {
              "type": "string"
            },
            "text/plain": [
              "'some_attribute'"
            ]
          },
          "metadata": {
            "tags": []
          },
          "execution_count": 30
        }
      ]
    },
    {
      "cell_type": "code",
      "metadata": {
        "id": "9PqAB4JMAjP7"
      },
      "source": [
        "d3 = Dog(\"dog3_name\", \"SB\")"
      ],
      "execution_count": null,
      "outputs": []
    },
    {
      "cell_type": "code",
      "metadata": {
        "id": "YEhEwODJAjM1",
        "outputId": "c42955ef-3d91-45f8-9745-43f67a7eedec",
        "colab": {
          "base_uri": "https://localhost:8080/",
          "height": 34
        }
      },
      "source": [
        "d3.legs"
      ],
      "execution_count": null,
      "outputs": [
        {
          "output_type": "execute_result",
          "data": {
            "text/plain": [
              "4"
            ]
          },
          "metadata": {
            "tags": []
          },
          "execution_count": 46
        }
      ]
    },
    {
      "cell_type": "code",
      "metadata": {
        "id": "6JbsFJRBArxa"
      },
      "source": [
        "d3.set_legs(10)"
      ],
      "execution_count": null,
      "outputs": []
    },
    {
      "cell_type": "code",
      "metadata": {
        "id": "aD3LZIJGAt67",
        "outputId": "b063cc21-693d-40d6-da51-d2681984d092",
        "colab": {
          "base_uri": "https://localhost:8080/",
          "height": 34
        }
      },
      "source": [
        "d3.legs"
      ],
      "execution_count": null,
      "outputs": [
        {
          "output_type": "execute_result",
          "data": {
            "text/plain": [
              "10"
            ]
          },
          "metadata": {
            "tags": []
          },
          "execution_count": 48
        }
      ]
    },
    {
      "cell_type": "code",
      "metadata": {
        "id": "yWWfMSPm9X8e"
      },
      "source": [
        "## Abstraction\n",
        "class SomeClass:\n",
        "  def __init__(self, var1):\n",
        "    self.var1 = var1\n",
        "  def some_complex_func():\n",
        "    \"\"\"\n",
        "    Some very complex logic which user should not see\n",
        "    \"\"\"\n",
        "    return True"
      ],
      "execution_count": null,
      "outputs": []
    },
    {
      "cell_type": "code",
      "metadata": {
        "id": "2iLe-JWm-Omv"
      },
      "source": [
        "sc = SomeClass(\"var1\")\n",
        "??sc.some_complex_func"
      ],
      "execution_count": null,
      "outputs": []
    },
    {
      "cell_type": "code",
      "metadata": {
        "id": "ahq3Ji36-UKE"
      },
      "source": [
        "## Abstraction\n",
        "class SomeClass:\n",
        "  def __init__(self, var1):\n",
        "    self.var1 = var1\n",
        "  \n",
        "  def some_complex_func(self):\n",
        "    result = self.__some_complex_func()\n",
        "    return result\n",
        "  \n",
        "  # Private function inside a class, start it with double underscore __\n",
        "  def __some_complex_func(self):\n",
        "    \"\"\"\n",
        "    Some very complex logic which user should not see\n",
        "    \"\"\"\n",
        "    return \"Complexity\" + self.var1"
      ],
      "execution_count": null,
      "outputs": []
    },
    {
      "cell_type": "code",
      "metadata": {
        "id": "Fnuc385Q_B65"
      },
      "source": [
        "s2 = SomeClass(\"variable1\")"
      ],
      "execution_count": null,
      "outputs": []
    },
    {
      "cell_type": "code",
      "metadata": {
        "id": "qp-BYFkw_a7w",
        "outputId": "b45fdc80-ae99-476e-9cfd-bf70ff183156",
        "colab": {
          "base_uri": "https://localhost:8080/",
          "height": 35
        }
      },
      "source": [
        "s2.some_complex_func()"
      ],
      "execution_count": null,
      "outputs": [
        {
          "output_type": "execute_result",
          "data": {
            "application/vnd.google.colaboratory.intrinsic+json": {
              "type": "string"
            },
            "text/plain": [
              "'Complexityvariable1'"
            ]
          },
          "metadata": {
            "tags": []
          },
          "execution_count": 39
        }
      ]
    },
    {
      "cell_type": "code",
      "metadata": {
        "id": "4jXNCJD5_f8k"
      },
      "source": [
        "??s2.some_complex_func"
      ],
      "execution_count": null,
      "outputs": []
    },
    {
      "cell_type": "code",
      "metadata": {
        "id": "oINZIzRh_h7z"
      },
      "source": [
        "# YES technically __init__ is also a private class "
      ],
      "execution_count": null,
      "outputs": []
    },
    {
      "cell_type": "code",
      "metadata": {
        "id": "yjSRZ6u3_ovC"
      },
      "source": [
        "class Class1(object):\n",
        "  def some_func1():\n",
        "    return \"some_func1\""
      ],
      "execution_count": null,
      "outputs": []
    },
    {
      "cell_type": "code",
      "metadata": {
        "id": "FDe2MtWgBtrq"
      },
      "source": [
        "c1 = Class1()"
      ],
      "execution_count": null,
      "outputs": []
    },
    {
      "cell_type": "code",
      "metadata": {
        "id": "SNGGMHh4Bxn0",
        "outputId": "beae412f-fffa-4dfe-c216-09927aee97ba",
        "colab": {
          "base_uri": "https://localhost:8080/",
          "height": 167
        }
      },
      "source": [
        "c1.some_func1()"
      ],
      "execution_count": null,
      "outputs": [
        {
          "output_type": "error",
          "ename": "TypeError",
          "evalue": "ignored",
          "traceback": [
            "\u001b[0;31m---------------------------------------------------------------------------\u001b[0m",
            "\u001b[0;31mTypeError\u001b[0m                                 Traceback (most recent call last)",
            "\u001b[0;32m<ipython-input-54-382c09f3e027>\u001b[0m in \u001b[0;36m<module>\u001b[0;34m()\u001b[0m\n\u001b[0;32m----> 1\u001b[0;31m \u001b[0mc1\u001b[0m\u001b[0;34m.\u001b[0m\u001b[0msome_func1\u001b[0m\u001b[0;34m(\u001b[0m\u001b[0;34m)\u001b[0m\u001b[0;34m\u001b[0m\u001b[0;34m\u001b[0m\u001b[0m\n\u001b[0m",
            "\u001b[0;31mTypeError\u001b[0m: some_func1() takes 0 positional arguments but 1 was given"
          ]
        }
      ]
    },
    {
      "cell_type": "code",
      "metadata": {
        "id": "-YaA_GuGBy1e"
      },
      "source": [
        "import keras"
      ],
      "execution_count": null,
      "outputs": []
    },
    {
      "cell_type": "code",
      "metadata": {
        "id": "J9ion8CwCB5N"
      },
      "source": [
        "??keras.activations.relu"
      ],
      "execution_count": null,
      "outputs": []
    },
    {
      "cell_type": "code",
      "metadata": {
        "id": "WprHyK8NCF0u"
      },
      "source": [
        "class Class1:\n",
        "  num1 = 100\n",
        "  def __init__(self):\n",
        "    self.num = 100\n",
        "\n",
        "  def some_func1(self):\n",
        "    results = self.__some_func1()\n",
        "    return \"some_func1\"\n",
        "\n",
        "  def som2(self):\n",
        "    print(results) #because it is local variable & currently not in scope!!!\n",
        "\n",
        "  def __some_func1(self):\n",
        "    self.num123 = 1234\n",
        "    return \"private class\""
      ],
      "execution_count": null,
      "outputs": []
    },
    {
      "cell_type": "code",
      "metadata": {
        "id": "fN2ow36CCpJX"
      },
      "source": [
        "c1 = Class1()"
      ],
      "execution_count": null,
      "outputs": []
    },
    {
      "cell_type": "code",
      "metadata": {
        "id": "PNYKVUCYCqij",
        "outputId": "1558c180-dff0-4495-b9c5-cd33009de339",
        "colab": {
          "base_uri": "https://localhost:8080/",
          "height": 34
        }
      },
      "source": [
        "c1.num"
      ],
      "execution_count": null,
      "outputs": [
        {
          "output_type": "execute_result",
          "data": {
            "text/plain": [
              "100"
            ]
          },
          "metadata": {
            "tags": []
          },
          "execution_count": 91
        }
      ]
    },
    {
      "cell_type": "code",
      "metadata": {
        "id": "IQszAGOKFMbG",
        "outputId": "5a33f87d-ed91-45a5-988b-b89ac1b40ef2",
        "colab": {
          "base_uri": "https://localhost:8080/",
          "height": 35
        }
      },
      "source": [
        "c1.some_func1()"
      ],
      "execution_count": null,
      "outputs": [
        {
          "output_type": "execute_result",
          "data": {
            "application/vnd.google.colaboratory.intrinsic+json": {
              "type": "string"
            },
            "text/plain": [
              "'some_func1'"
            ]
          },
          "metadata": {
            "tags": []
          },
          "execution_count": 84
        }
      ]
    },
    {
      "cell_type": "code",
      "metadata": {
        "id": "9pKZlJV-FV-B",
        "outputId": "d636a517-077a-4361-c31d-76b39202fbb5",
        "colab": {
          "base_uri": "https://localhost:8080/",
          "height": 34
        }
      },
      "source": [
        "c1.num123"
      ],
      "execution_count": null,
      "outputs": [
        {
          "output_type": "execute_result",
          "data": {
            "text/plain": [
              "1234"
            ]
          },
          "metadata": {
            "tags": []
          },
          "execution_count": 85
        }
      ]
    },
    {
      "cell_type": "code",
      "metadata": {
        "id": "U_RD3cYUCsEE",
        "outputId": "3af0c033-31f0-4fe7-8ed7-f7b584e7be3c",
        "colab": {
          "base_uri": "https://localhost:8080/",
          "height": 34
        }
      },
      "source": [
        "Class1.num1"
      ],
      "execution_count": null,
      "outputs": [
        {
          "output_type": "execute_result",
          "data": {
            "text/plain": [
              "100"
            ]
          },
          "metadata": {
            "tags": []
          },
          "execution_count": 73
        }
      ]
    },
    {
      "cell_type": "code",
      "metadata": {
        "id": "-DKa4UHbDBXn"
      },
      "source": [
        "# By default Every class in python is inheriting object class. \n",
        "# class SomeClass(object): is same as class SomeClass:"
      ],
      "execution_count": null,
      "outputs": []
    },
    {
      "cell_type": "code",
      "metadata": {
        "id": "kvv-eK66DHvs",
        "outputId": "f149c3fc-2250-47ee-85e5-1bfcafa354b8",
        "colab": {
          "base_uri": "https://localhost:8080/",
          "height": 290
        }
      },
      "source": [
        "c1.som2()"
      ],
      "execution_count": null,
      "outputs": [
        {
          "output_type": "error",
          "ename": "NameError",
          "evalue": "ignored",
          "traceback": [
            "\u001b[0;31m---------------------------------------------------------------------------\u001b[0m",
            "\u001b[0;31mNameError\u001b[0m                                 Traceback (most recent call last)",
            "\u001b[0;32m<ipython-input-92-90a525b6c227>\u001b[0m in \u001b[0;36m<module>\u001b[0;34m()\u001b[0m\n\u001b[0;32m----> 1\u001b[0;31m \u001b[0mc1\u001b[0m\u001b[0;34m.\u001b[0m\u001b[0msom2\u001b[0m\u001b[0;34m(\u001b[0m\u001b[0;34m)\u001b[0m\u001b[0;34m\u001b[0m\u001b[0;34m\u001b[0m\u001b[0m\n\u001b[0m",
            "\u001b[0;32m<ipython-input-89-1fd990d8324a>\u001b[0m in \u001b[0;36msom2\u001b[0;34m(self)\u001b[0m\n\u001b[1;32m      9\u001b[0m \u001b[0;34m\u001b[0m\u001b[0m\n\u001b[1;32m     10\u001b[0m   \u001b[0;32mdef\u001b[0m \u001b[0msom2\u001b[0m\u001b[0;34m(\u001b[0m\u001b[0mself\u001b[0m\u001b[0;34m)\u001b[0m\u001b[0;34m:\u001b[0m\u001b[0;34m\u001b[0m\u001b[0;34m\u001b[0m\u001b[0m\n\u001b[0;32m---> 11\u001b[0;31m     \u001b[0mprint\u001b[0m\u001b[0;34m(\u001b[0m\u001b[0mresults\u001b[0m\u001b[0;34m)\u001b[0m\u001b[0;34m\u001b[0m\u001b[0;34m\u001b[0m\u001b[0m\n\u001b[0m\u001b[1;32m     12\u001b[0m \u001b[0;34m\u001b[0m\u001b[0m\n\u001b[1;32m     13\u001b[0m   \u001b[0;32mdef\u001b[0m \u001b[0m__some_func1\u001b[0m\u001b[0;34m(\u001b[0m\u001b[0mself\u001b[0m\u001b[0;34m)\u001b[0m\u001b[0;34m:\u001b[0m\u001b[0;34m\u001b[0m\u001b[0;34m\u001b[0m\u001b[0m\n",
            "\u001b[0;31mNameError\u001b[0m: name 'results' is not defined"
          ]
        }
      ]
    },
    {
      "cell_type": "code",
      "metadata": {
        "id": "1hl1xatjHUca"
      },
      "source": [
        "### Lambda "
      ],
      "execution_count": null,
      "outputs": []
    },
    {
      "cell_type": "code",
      "metadata": {
        "id": "xSvcKXP6HqZU"
      },
      "source": [
        "def add(x,y):\n",
        "  z = x + y  \n",
        "  return z"
      ],
      "execution_count": null,
      "outputs": []
    },
    {
      "cell_type": "code",
      "metadata": {
        "id": "oRV7XP5FHv7J"
      },
      "source": [
        "l1 = lambda x,y : x+y     # lambda is reserved keyword \n",
        "# There is no function name\n",
        "# Syntax lambda input: output"
      ],
      "execution_count": null,
      "outputs": []
    },
    {
      "cell_type": "code",
      "metadata": {
        "id": "Y1SRQphgH2Ah",
        "outputId": "c8a7834d-1c24-4c74-c1f6-dc3b6ddbfd96",
        "colab": {
          "base_uri": "https://localhost:8080/",
          "height": 34
        }
      },
      "source": [
        "l1(10, 5)"
      ],
      "execution_count": null,
      "outputs": [
        {
          "output_type": "execute_result",
          "data": {
            "text/plain": [
              "15"
            ]
          },
          "metadata": {
            "tags": []
          },
          "execution_count": 99
        }
      ]
    },
    {
      "cell_type": "code",
      "metadata": {
        "id": "zspHd2YWIID-",
        "outputId": "b04a2d63-c8f2-439d-8d53-b36de25fc90f",
        "colab": {
          "base_uri": "https://localhost:8080/",
          "height": 34
        }
      },
      "source": [
        "l1(100, 200)"
      ],
      "execution_count": null,
      "outputs": [
        {
          "output_type": "execute_result",
          "data": {
            "text/plain": [
              "300"
            ]
          },
          "metadata": {
            "tags": []
          },
          "execution_count": 101
        }
      ]
    },
    {
      "cell_type": "code",
      "metadata": {
        "id": "njJO1GsdIgxk"
      },
      "source": [
        "l2 = lambda x: \"Very high\" if x > 10 else \"Very less\""
      ],
      "execution_count": null,
      "outputs": []
    },
    {
      "cell_type": "code",
      "metadata": {
        "id": "b-02eFPaIxtR",
        "outputId": "5a2d4a0e-d723-450b-8ae4-d10ff789be26",
        "colab": {
          "base_uri": "https://localhost:8080/",
          "height": 35
        }
      },
      "source": [
        "l2(9)"
      ],
      "execution_count": null,
      "outputs": [
        {
          "output_type": "execute_result",
          "data": {
            "application/vnd.google.colaboratory.intrinsic+json": {
              "type": "string"
            },
            "text/plain": [
              "'Very less'"
            ]
          },
          "metadata": {
            "tags": []
          },
          "execution_count": 104
        }
      ]
    },
    {
      "cell_type": "code",
      "metadata": {
        "id": "VjNBf7DGI2LA",
        "outputId": "68b6a074-e273-4f39-d1b7-b2ce0682a1cc",
        "colab": {
          "base_uri": "https://localhost:8080/",
          "height": 35
        }
      },
      "source": [
        "l2(11)"
      ],
      "execution_count": null,
      "outputs": [
        {
          "output_type": "execute_result",
          "data": {
            "application/vnd.google.colaboratory.intrinsic+json": {
              "type": "string"
            },
            "text/plain": [
              "'Very high'"
            ]
          },
          "metadata": {
            "tags": []
          },
          "execution_count": 105
        }
      ]
    },
    {
      "cell_type": "code",
      "metadata": {
        "id": "iCns5DtcI3SE"
      },
      "source": [
        "# How to get user input\n",
        "# input always return a string!!!"
      ],
      "execution_count": null,
      "outputs": []
    },
    {
      "cell_type": "code",
      "metadata": {
        "id": "VpSsVu-_I-p8",
        "outputId": "d0c15e8a-8489-4983-ee8f-973fdbaaa130",
        "colab": {
          "base_uri": "https://localhost:8080/",
          "height": 34
        }
      },
      "source": [
        "num1 = input(\"Enter you number \")"
      ],
      "execution_count": null,
      "outputs": [
        {
          "output_type": "stream",
          "text": [
            "Enter you number 1234\n"
          ],
          "name": "stdout"
        }
      ]
    },
    {
      "cell_type": "code",
      "metadata": {
        "id": "cmUU4FtPJBmh",
        "outputId": "30b2553e-feeb-4080-bea3-075b4ba50238",
        "colab": {
          "base_uri": "https://localhost:8080/",
          "height": 34
        }
      },
      "source": [
        "num1, type(num1)"
      ],
      "execution_count": null,
      "outputs": [
        {
          "output_type": "execute_result",
          "data": {
            "text/plain": [
              "('1234', str)"
            ]
          },
          "metadata": {
            "tags": []
          },
          "execution_count": 111
        }
      ]
    },
    {
      "cell_type": "code",
      "metadata": {
        "id": "t5HYf4PYJGRy"
      },
      "source": [
        "num1 = int(num1)"
      ],
      "execution_count": null,
      "outputs": []
    },
    {
      "cell_type": "code",
      "metadata": {
        "id": "R8FbQPmzJUEF",
        "outputId": "7d4939b8-77ee-476f-b9c1-98ed84203cbb",
        "colab": {
          "base_uri": "https://localhost:8080/",
          "height": 34
        }
      },
      "source": [
        "type(num1)"
      ],
      "execution_count": null,
      "outputs": [
        {
          "output_type": "execute_result",
          "data": {
            "text/plain": [
              "int"
            ]
          },
          "metadata": {
            "tags": []
          },
          "execution_count": 114
        }
      ]
    },
    {
      "cell_type": "code",
      "metadata": {
        "id": "dcv_tt3jJVTE"
      },
      "source": [
        "#  how to read a json file"
      ],
      "execution_count": null,
      "outputs": []
    },
    {
      "cell_type": "code",
      "metadata": {
        "id": "h6OqR2n8JtN5"
      },
      "source": [
        "# {\n",
        "#     \"glossary\": {\n",
        "#         \"title\": \"example glossary\",\n",
        "# \t\t\"GlossDiv\": {\n",
        "#             \"title\": \"S\",\n",
        "# \t\t\t\"GlossList\": {\n",
        "#                 \"GlossEntry\": {\n",
        "#                     \"ID\": \"SGML\",\n",
        "# \t\t\t\t\t\"SortAs\": \"SGML\",\n",
        "# \t\t\t\t\t\"GlossTerm\": \"Standard Generalized Markup Language\",\n",
        "# \t\t\t\t\t\"Acronym\": \"SGML\",\n",
        "# \t\t\t\t\t\"Abbrev\": \"ISO 8879:1986\",\n",
        "# \t\t\t\t\t\"GlossDef\": {\n",
        "#                         \"para\": \"A meta-markup language, used to create markup languages such as DocBook.\",\n",
        "# \t\t\t\t\t\t\"GlossSeeAlso\": [\"GML\", \"XML\"]\n",
        "#                     },\n",
        "# \t\t\t\t\t\"GlossSee\": \"markup\"\n",
        "#                 }\n",
        "#             }\n",
        "#         }\n",
        "#     }\n",
        "# }\n",
        "# Lets save this in a file"
      ],
      "execution_count": null,
      "outputs": []
    },
    {
      "cell_type": "code",
      "metadata": {
        "id": "jL-S8GeXLcKi"
      },
      "source": [
        "with open(\"sample.json\", \"r\") as _file:\n",
        "  text = _file.read()"
      ],
      "execution_count": null,
      "outputs": []
    },
    {
      "cell_type": "code",
      "metadata": {
        "id": "sOkSja3pLty3",
        "outputId": "d9e85323-d7a6-4fd4-a16f-7d7ca3edd64b",
        "colab": {
          "base_uri": "https://localhost:8080/",
          "height": 34
        }
      },
      "source": [
        "type(text)"
      ],
      "execution_count": null,
      "outputs": [
        {
          "output_type": "execute_result",
          "data": {
            "text/plain": [
              "str"
            ]
          },
          "metadata": {
            "tags": []
          },
          "execution_count": 129
        }
      ]
    },
    {
      "cell_type": "code",
      "metadata": {
        "id": "Yt2gyEyVLwGP",
        "outputId": "bf8fba2f-1db5-4fd8-ea1f-bf25543edbae",
        "colab": {
          "base_uri": "https://localhost:8080/",
          "height": 105
        }
      },
      "source": [
        "text"
      ],
      "execution_count": null,
      "outputs": [
        {
          "output_type": "execute_result",
          "data": {
            "application/vnd.google.colaboratory.intrinsic+json": {
              "type": "string"
            },
            "text/plain": [
              "'{\\n    \"glossary\": {\\n        \"title\": \"example glossary\",\\n\\t\\t\"GlossDiv\": {\\n            \"title\": \"S\",\\n\\t\\t\\t\"GlossList\": {\\n                \"GlossEntry\": {\\n                    \"ID\": \"SGML\",\\n\\t\\t\\t\\t\\t\"SortAs\": \"SGML\",\\n\\t\\t\\t\\t\\t\"GlossTerm\": \"Standard Generalized Markup Language\",\\n\\t\\t\\t\\t\\t\"Acronym\": \"SGML\",\\n\\t\\t\\t\\t\\t\"Abbrev\": \"ISO 8879:1986\",\\n\\t\\t\\t\\t\\t\"GlossDef\": {\\n                        \"para\": \"A meta-markup language, used to create markup languages such as DocBook.\",\\n\\t\\t\\t\\t\\t\\t\"GlossSeeAlso\": [\"GML\", \"XML\"]\\n                    },\\n\\t\\t\\t\\t\\t\"GlossSee\": \"markup\"\\n                }\\n            }\\n        }\\n    }\\n}'"
            ]
          },
          "metadata": {
            "tags": []
          },
          "execution_count": 130
        }
      ]
    },
    {
      "cell_type": "code",
      "metadata": {
        "id": "HqwPg30OKUp_"
      },
      "source": [
        "import json"
      ],
      "execution_count": null,
      "outputs": []
    },
    {
      "cell_type": "code",
      "metadata": {
        "id": "jvUIBoOKK8zw"
      },
      "source": [
        "json_payload = json.load(open(\"sample.json\", \"r\"))"
      ],
      "execution_count": null,
      "outputs": []
    },
    {
      "cell_type": "code",
      "metadata": {
        "id": "nWgc0D3wLHEr",
        "outputId": "5547d074-40d4-485d-b44b-359213248fdd",
        "colab": {
          "base_uri": "https://localhost:8080/",
          "height": 34
        }
      },
      "source": [
        "type(json_payload)"
      ],
      "execution_count": null,
      "outputs": [
        {
          "output_type": "execute_result",
          "data": {
            "text/plain": [
              "dict"
            ]
          },
          "metadata": {
            "tags": []
          },
          "execution_count": 124
        }
      ]
    },
    {
      "cell_type": "code",
      "metadata": {
        "id": "aA7lYibXLL4o",
        "outputId": "c154834c-93ad-49f5-eb2b-39586dfef2c5",
        "colab": {
          "base_uri": "https://localhost:8080/",
          "height": 34
        }
      },
      "source": [
        "json_payload.keys()"
      ],
      "execution_count": null,
      "outputs": [
        {
          "output_type": "execute_result",
          "data": {
            "text/plain": [
              "dict_keys(['glossary'])"
            ]
          },
          "metadata": {
            "tags": []
          },
          "execution_count": 125
        }
      ]
    },
    {
      "cell_type": "code",
      "metadata": {
        "id": "QX2CMZaUNE6y",
        "outputId": "a192ca17-512b-4b4e-840f-8b2b3a6ca25d",
        "colab": {
          "base_uri": "https://localhost:8080/",
          "height": 193
        }
      },
      "source": [
        "json_payload[\"glossary\"]"
      ],
      "execution_count": null,
      "outputs": [
        {
          "output_type": "execute_result",
          "data": {
            "text/plain": [
              "{'GlossDiv': {'GlossList': {'GlossEntry': {'Abbrev': 'ISO 8879:1986',\n",
              "    'Acronym': 'SGML',\n",
              "    'GlossDef': {'GlossSeeAlso': ['GML', 'XML'],\n",
              "     'para': 'A meta-markup language, used to create markup languages such as DocBook.'},\n",
              "    'GlossSee': 'markup',\n",
              "    'GlossTerm': 'Standard Generalized Markup Language',\n",
              "    'ID': 'SGML',\n",
              "    'SortAs': 'SGML'}},\n",
              "  'title': 'S'},\n",
              " 'title': 'example glossary'}"
            ]
          },
          "metadata": {
            "tags": []
          },
          "execution_count": 131
        }
      ]
    },
    {
      "cell_type": "code",
      "metadata": {
        "id": "rbg3PGtSLOyH",
        "outputId": "75b668fa-fcf5-49f2-e9e6-56e28e548045",
        "colab": {
          "base_uri": "https://localhost:8080/",
          "height": 34
        }
      },
      "source": [
        "json_payload[\"glossary\"].keys()"
      ],
      "execution_count": null,
      "outputs": [
        {
          "output_type": "execute_result",
          "data": {
            "text/plain": [
              "dict_keys(['title', 'GlossDiv'])"
            ]
          },
          "metadata": {
            "tags": []
          },
          "execution_count": 126
        }
      ]
    },
    {
      "cell_type": "code",
      "metadata": {
        "id": "6LKS5kIuLXsi"
      },
      "source": [
        ""
      ],
      "execution_count": null,
      "outputs": []
    },
    {
      "cell_type": "code",
      "metadata": {
        "id": "oehJt-HWNefO"
      },
      "source": [
        ""
      ],
      "execution_count": null,
      "outputs": []
    }
  ]
}