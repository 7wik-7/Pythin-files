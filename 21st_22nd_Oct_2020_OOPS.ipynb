{
  "nbformat": 4,
  "nbformat_minor": 0,
  "metadata": {
    "colab": {
      "name": "21st/22nd Oct 2020 OOPS.ipynb",
      "provenance": [],
      "collapsed_sections": []
    },
    "kernelspec": {
      "name": "python3",
      "display_name": "Python 3"
    }
  },
  "cells": [
    {
      "cell_type": "code",
      "metadata": {
        "id": "wAsn4uQQzfIq"
      },
      "source": [
        "# OOP - Object Oriented Programming\n",
        "\n",
        "# 1. Inheritence - can be defined as the process where one class acquires the property of another class\n",
        "# With the help of inheritence the information is made managable in hierarchial format.\n",
        "\n",
        "# 2. Abstraction - it is the process of hiding the complex implementation details from user. \n",
        "\n",
        "# 3. Encapsulation \n",
        "\n",
        "# 4. Polymorphism"
      ],
      "execution_count": null,
      "outputs": []
    },
    {
      "cell_type": "code",
      "metadata": {
        "id": "ATH8zbXfz_rA"
      },
      "source": [
        "# Parent Class\n",
        "class Animal:\n",
        "  def __init__(self, name):\n",
        "    self.name = name\n",
        "    self.legs = None\n",
        "    self.some_attribute = \"some_attribute\"\n",
        "  def some_func_in_parent(self):\n",
        "    return \"some_func_in_parent\"\n",
        "  def set_legs(self, legs):\n",
        "    self.legs = legs"
      ],
      "execution_count": 1,
      "outputs": []
    },
    {
      "cell_type": "code",
      "metadata": {
        "id": "F8oNlq7u2VVX"
      },
      "source": [
        "# Child Class\n",
        "class Dog(Animal):\n",
        "  def __init__(self, name, breed):\n",
        "    super().__init__(name)       # super is a reserved keyword to call parent class \n",
        "    self.bark = \"YES\"\n",
        "    self.legs = 4\n",
        "    self.breed = breed\n",
        "  def some_func_in_child(self):\n",
        "    return \"some_func_in_child\""
      ],
      "execution_count": 2,
      "outputs": []
    },
    {
      "cell_type": "code",
      "metadata": {
        "id": "5zInApGJ8fcT"
      },
      "source": [
        "# this line \"super().__init__(name)\" is actually calling the parent class of Dog class and calling its constructor\n",
        "# And it is equal to Animal().__init__(name)"
      ],
      "execution_count": 3,
      "outputs": []
    },
    {
      "cell_type": "code",
      "metadata": {
        "id": "KQTCM_jc2rBw"
      },
      "source": [
        "d1 = Dog(\"dog1_name\", \"GR\")"
      ],
      "execution_count": 4,
      "outputs": []
    },
    {
      "cell_type": "code",
      "metadata": {
        "id": "UPDFN7Uh-TRd",
        "outputId": "210b1e24-b984-4799-d521-f6c4f776edeb",
        "colab": {
          "base_uri": "https://localhost:8080/",
          "height": 34
        }
      },
      "source": [
        "type(d1)"
      ],
      "execution_count": 5,
      "outputs": [
        {
          "output_type": "execute_result",
          "data": {
            "text/plain": [
              "__main__.Dog"
            ]
          },
          "metadata": {
            "tags": []
          },
          "execution_count": 5
        }
      ]
    },
    {
      "cell_type": "code",
      "metadata": {
        "id": "WGvax1J145nL",
        "outputId": "ab589aa0-aef0-4451-fbbc-d42e58e04ffd",
        "colab": {
          "base_uri": "https://localhost:8080/",
          "height": 34
        }
      },
      "source": [
        "d1.legs    # because CHILDS override the parent attributes "
      ],
      "execution_count": null,
      "outputs": [
        {
          "output_type": "execute_result",
          "data": {
            "text/plain": [
              "4"
            ]
          },
          "metadata": {
            "tags": []
          },
          "execution_count": 21
        }
      ]
    },
    {
      "cell_type": "code",
      "metadata": {
        "id": "GFoxv5w97Wzz",
        "outputId": "de2b731c-7c96-40d3-a250-3827f00154d2",
        "colab": {
          "base_uri": "https://localhost:8080/",
          "height": 35
        }
      },
      "source": [
        "d1.name"
      ],
      "execution_count": null,
      "outputs": [
        {
          "output_type": "execute_result",
          "data": {
            "application/vnd.google.colaboratory.intrinsic+json": {
              "type": "string"
            },
            "text/plain": [
              "'dog1_name'"
            ]
          },
          "metadata": {
            "tags": []
          },
          "execution_count": 25
        }
      ]
    },
    {
      "cell_type": "code",
      "metadata": {
        "id": "dyh3QGU04-W0",
        "outputId": "2acaad23-3bfb-4e2c-a45e-c03c50f04edb",
        "colab": {
          "base_uri": "https://localhost:8080/",
          "height": 35
        }
      },
      "source": [
        "d1.some_func_in_parent()"
      ],
      "execution_count": null,
      "outputs": [
        {
          "output_type": "execute_result",
          "data": {
            "application/vnd.google.colaboratory.intrinsic+json": {
              "type": "string"
            },
            "text/plain": [
              "'some_func_in_parent'"
            ]
          },
          "metadata": {
            "tags": []
          },
          "execution_count": 22
        }
      ]
    },
    {
      "cell_type": "code",
      "metadata": {
        "id": "83nhMYu15zgx",
        "outputId": "ba65911f-2ddd-40af-f42f-5a7c845e0e2b",
        "colab": {
          "base_uri": "https://localhost:8080/",
          "height": 35
        }
      },
      "source": [
        "d1.some_func_in_child()"
      ],
      "execution_count": null,
      "outputs": [
        {
          "output_type": "execute_result",
          "data": {
            "application/vnd.google.colaboratory.intrinsic+json": {
              "type": "string"
            },
            "text/plain": [
              "'some_func_in_child'"
            ]
          },
          "metadata": {
            "tags": []
          },
          "execution_count": 23
        }
      ]
    },
    {
      "cell_type": "code",
      "metadata": {
        "id": "qFkT6aci6GBX"
      },
      "source": [
        "#  ----->   GET HELP ON JUPYTER   <--------- \n",
        "# 1. Class or Function \n",
        "# Dog() write the function name and make ( ) and press Shift + Tab\n",
        "\n",
        "# 2. To get attribitues of a object \n",
        "# d1.   type object name and press . and then press Tab"
      ],
      "execution_count": null,
      "outputs": []
    },
    {
      "cell_type": "code",
      "metadata": {
        "id": "5pkJlLQZ6Rtx"
      },
      "source": [
        "d2 = Dog(\"dog2_name\", \"GS\")"
      ],
      "execution_count": null,
      "outputs": []
    },
    {
      "cell_type": "code",
      "metadata": {
        "id": "a9VNaMUy9Whk",
        "outputId": "c0d6a9d5-c7e5-4450-e547-0c0dbc0ef99e",
        "colab": {
          "base_uri": "https://localhost:8080/",
          "height": 35
        }
      },
      "source": [
        "d2.some_attribute"
      ],
      "execution_count": null,
      "outputs": [
        {
          "output_type": "execute_result",
          "data": {
            "application/vnd.google.colaboratory.intrinsic+json": {
              "type": "string"
            },
            "text/plain": [
              "'some_attribute'"
            ]
          },
          "metadata": {
            "tags": []
          },
          "execution_count": 30
        }
      ]
    },
    {
      "cell_type": "code",
      "metadata": {
        "id": "9PqAB4JMAjP7"
      },
      "source": [
        "d3 = Dog(\"dog3_name\", \"SB\")"
      ],
      "execution_count": null,
      "outputs": []
    },
    {
      "cell_type": "code",
      "metadata": {
        "id": "YEhEwODJAjM1",
        "outputId": "c42955ef-3d91-45f8-9745-43f67a7eedec",
        "colab": {
          "base_uri": "https://localhost:8080/",
          "height": 34
        }
      },
      "source": [
        "d3.legs"
      ],
      "execution_count": null,
      "outputs": [
        {
          "output_type": "execute_result",
          "data": {
            "text/plain": [
              "4"
            ]
          },
          "metadata": {
            "tags": []
          },
          "execution_count": 46
        }
      ]
    },
    {
      "cell_type": "code",
      "metadata": {
        "id": "6JbsFJRBArxa"
      },
      "source": [
        "d3.set_legs(10)"
      ],
      "execution_count": null,
      "outputs": []
    },
    {
      "cell_type": "code",
      "metadata": {
        "id": "aD3LZIJGAt67",
        "outputId": "b063cc21-693d-40d6-da51-d2681984d092",
        "colab": {
          "base_uri": "https://localhost:8080/",
          "height": 34
        }
      },
      "source": [
        "d3.legs"
      ],
      "execution_count": null,
      "outputs": [
        {
          "output_type": "execute_result",
          "data": {
            "text/plain": [
              "10"
            ]
          },
          "metadata": {
            "tags": []
          },
          "execution_count": 48
        }
      ]
    },
    {
      "cell_type": "code",
      "metadata": {
        "id": "yWWfMSPm9X8e"
      },
      "source": [
        "## Abstraction\n",
        "class SomeClass:\n",
        "  def __init__(self, var1):\n",
        "    self.var1 = var1\n",
        "  def some_complex_func():\n",
        "    \"\"\"\n",
        "    Some very complex logic which user should not see\n",
        "    \"\"\"\n",
        "    return True"
      ],
      "execution_count": null,
      "outputs": []
    },
    {
      "cell_type": "code",
      "metadata": {
        "id": "2iLe-JWm-Omv"
      },
      "source": [
        "sc = SomeClass(\"var1\")\n",
        "??sc.some_complex_func"
      ],
      "execution_count": null,
      "outputs": []
    },
    {
      "cell_type": "code",
      "metadata": {
        "id": "ahq3Ji36-UKE"
      },
      "source": [
        "## Abstraction\n",
        "class SomeClass:\n",
        "  def __init__(self, var1):\n",
        "    self.var1 = var1\n",
        "  \n",
        "  def some_complex_func(self):\n",
        "    result = self.__some_complex_func()\n",
        "    return result\n",
        "  \n",
        "  # Private function inside a class, start it with double underscore __\n",
        "  def __some_complex_func(self):\n",
        "    \"\"\"\n",
        "    Some very complex logic which user should not see\n",
        "    \"\"\"\n",
        "    return \"Complexity\" + self.var1"
      ],
      "execution_count": null,
      "outputs": []
    },
    {
      "cell_type": "code",
      "metadata": {
        "id": "Fnuc385Q_B65"
      },
      "source": [
        "s2 = SomeClass(\"variable1\")"
      ],
      "execution_count": null,
      "outputs": []
    },
    {
      "cell_type": "code",
      "metadata": {
        "id": "qp-BYFkw_a7w",
        "outputId": "b45fdc80-ae99-476e-9cfd-bf70ff183156",
        "colab": {
          "base_uri": "https://localhost:8080/",
          "height": 35
        }
      },
      "source": [
        "s2.some_complex_func()"
      ],
      "execution_count": null,
      "outputs": [
        {
          "output_type": "execute_result",
          "data": {
            "application/vnd.google.colaboratory.intrinsic+json": {
              "type": "string"
            },
            "text/plain": [
              "'Complexityvariable1'"
            ]
          },
          "metadata": {
            "tags": []
          },
          "execution_count": 39
        }
      ]
    },
    {
      "cell_type": "code",
      "metadata": {
        "id": "4jXNCJD5_f8k"
      },
      "source": [
        "??s2.some_complex_func"
      ],
      "execution_count": null,
      "outputs": []
    },
    {
      "cell_type": "code",
      "metadata": {
        "id": "oINZIzRh_h7z"
      },
      "source": [
        "# YES technically __init__ is also a private class "
      ],
      "execution_count": null,
      "outputs": []
    },
    {
      "cell_type": "code",
      "metadata": {
        "id": "yjSRZ6u3_ovC"
      },
      "source": [
        "class Class1(object):\n",
        "  def some_func1():\n",
        "    return \"some_func1\""
      ],
      "execution_count": null,
      "outputs": []
    },
    {
      "cell_type": "code",
      "metadata": {
        "id": "FDe2MtWgBtrq"
      },
      "source": [
        "c1 = Class1()"
      ],
      "execution_count": null,
      "outputs": []
    },
    {
      "cell_type": "code",
      "metadata": {
        "id": "SNGGMHh4Bxn0",
        "outputId": "beae412f-fffa-4dfe-c216-09927aee97ba",
        "colab": {
          "base_uri": "https://localhost:8080/",
          "height": 167
        }
      },
      "source": [
        "c1.some_func1()"
      ],
      "execution_count": null,
      "outputs": [
        {
          "output_type": "error",
          "ename": "TypeError",
          "evalue": "ignored",
          "traceback": [
            "\u001b[0;31m---------------------------------------------------------------------------\u001b[0m",
            "\u001b[0;31mTypeError\u001b[0m                                 Traceback (most recent call last)",
            "\u001b[0;32m<ipython-input-54-382c09f3e027>\u001b[0m in \u001b[0;36m<module>\u001b[0;34m()\u001b[0m\n\u001b[0;32m----> 1\u001b[0;31m \u001b[0mc1\u001b[0m\u001b[0;34m.\u001b[0m\u001b[0msome_func1\u001b[0m\u001b[0;34m(\u001b[0m\u001b[0;34m)\u001b[0m\u001b[0;34m\u001b[0m\u001b[0;34m\u001b[0m\u001b[0m\n\u001b[0m",
            "\u001b[0;31mTypeError\u001b[0m: some_func1() takes 0 positional arguments but 1 was given"
          ]
        }
      ]
    },
    {
      "cell_type": "code",
      "metadata": {
        "id": "-YaA_GuGBy1e"
      },
      "source": [
        "# Nothing related to OOPS just wanted to show best practices. \n",
        "# !pip install keras # run this command to install keras\n",
        "import keras"
      ],
      "execution_count": null,
      "outputs": []
    },
    {
      "cell_type": "code",
      "metadata": {
        "id": "J9ion8CwCB5N"
      },
      "source": [
        "??keras.activations.relu"
      ],
      "execution_count": null,
      "outputs": []
    },
    {
      "cell_type": "code",
      "metadata": {
        "id": "WprHyK8NCF0u"
      },
      "source": [
        "class Class1:\n",
        "  num1 = 100\n",
        "  def __init__(self):\n",
        "    self.num = 100\n",
        "\n",
        "  def some_func1(self):\n",
        "    results = self.__some_func1()\n",
        "    return \"some_func1\"\n",
        "\n",
        "  def som2(self):\n",
        "    print(results) #because it is local variable & currently not in scope!!!\n",
        "\n",
        "  def __some_func1(self):\n",
        "    self.num123 = 1234\n",
        "    return \"private class\""
      ],
      "execution_count": null,
      "outputs": []
    },
    {
      "cell_type": "code",
      "metadata": {
        "id": "fN2ow36CCpJX"
      },
      "source": [
        "c1 = Class1()"
      ],
      "execution_count": null,
      "outputs": []
    },
    {
      "cell_type": "code",
      "metadata": {
        "id": "PNYKVUCYCqij",
        "outputId": "1558c180-dff0-4495-b9c5-cd33009de339",
        "colab": {
          "base_uri": "https://localhost:8080/",
          "height": 34
        }
      },
      "source": [
        "c1.num"
      ],
      "execution_count": null,
      "outputs": [
        {
          "output_type": "execute_result",
          "data": {
            "text/plain": [
              "100"
            ]
          },
          "metadata": {
            "tags": []
          },
          "execution_count": 91
        }
      ]
    },
    {
      "cell_type": "code",
      "metadata": {
        "id": "IQszAGOKFMbG",
        "outputId": "5a33f87d-ed91-45a5-988b-b89ac1b40ef2",
        "colab": {
          "base_uri": "https://localhost:8080/",
          "height": 35
        }
      },
      "source": [
        "c1.some_func1()"
      ],
      "execution_count": null,
      "outputs": [
        {
          "output_type": "execute_result",
          "data": {
            "application/vnd.google.colaboratory.intrinsic+json": {
              "type": "string"
            },
            "text/plain": [
              "'some_func1'"
            ]
          },
          "metadata": {
            "tags": []
          },
          "execution_count": 84
        }
      ]
    },
    {
      "cell_type": "code",
      "metadata": {
        "id": "9pKZlJV-FV-B",
        "outputId": "d636a517-077a-4361-c31d-76b39202fbb5",
        "colab": {
          "base_uri": "https://localhost:8080/",
          "height": 34
        }
      },
      "source": [
        "c1.num123"
      ],
      "execution_count": null,
      "outputs": [
        {
          "output_type": "execute_result",
          "data": {
            "text/plain": [
              "1234"
            ]
          },
          "metadata": {
            "tags": []
          },
          "execution_count": 85
        }
      ]
    },
    {
      "cell_type": "code",
      "metadata": {
        "id": "U_RD3cYUCsEE",
        "outputId": "3af0c033-31f0-4fe7-8ed7-f7b584e7be3c",
        "colab": {
          "base_uri": "https://localhost:8080/",
          "height": 34
        }
      },
      "source": [
        "Class1.num1"
      ],
      "execution_count": null,
      "outputs": [
        {
          "output_type": "execute_result",
          "data": {
            "text/plain": [
              "100"
            ]
          },
          "metadata": {
            "tags": []
          },
          "execution_count": 73
        }
      ]
    },
    {
      "cell_type": "code",
      "metadata": {
        "id": "-DKa4UHbDBXn"
      },
      "source": [
        "# By default Every class in python is inheriting object class. \n",
        "# class SomeClass(object): is same as class SomeClass:"
      ],
      "execution_count": null,
      "outputs": []
    },
    {
      "cell_type": "code",
      "metadata": {
        "id": "kvv-eK66DHvs",
        "outputId": "f149c3fc-2250-47ee-85e5-1bfcafa354b8",
        "colab": {
          "base_uri": "https://localhost:8080/",
          "height": 290
        }
      },
      "source": [
        "c1.som2()"
      ],
      "execution_count": null,
      "outputs": [
        {
          "output_type": "error",
          "ename": "NameError",
          "evalue": "ignored",
          "traceback": [
            "\u001b[0;31m---------------------------------------------------------------------------\u001b[0m",
            "\u001b[0;31mNameError\u001b[0m                                 Traceback (most recent call last)",
            "\u001b[0;32m<ipython-input-92-90a525b6c227>\u001b[0m in \u001b[0;36m<module>\u001b[0;34m()\u001b[0m\n\u001b[0;32m----> 1\u001b[0;31m \u001b[0mc1\u001b[0m\u001b[0;34m.\u001b[0m\u001b[0msom2\u001b[0m\u001b[0;34m(\u001b[0m\u001b[0;34m)\u001b[0m\u001b[0;34m\u001b[0m\u001b[0;34m\u001b[0m\u001b[0m\n\u001b[0m",
            "\u001b[0;32m<ipython-input-89-1fd990d8324a>\u001b[0m in \u001b[0;36msom2\u001b[0;34m(self)\u001b[0m\n\u001b[1;32m      9\u001b[0m \u001b[0;34m\u001b[0m\u001b[0m\n\u001b[1;32m     10\u001b[0m   \u001b[0;32mdef\u001b[0m \u001b[0msom2\u001b[0m\u001b[0;34m(\u001b[0m\u001b[0mself\u001b[0m\u001b[0;34m)\u001b[0m\u001b[0;34m:\u001b[0m\u001b[0;34m\u001b[0m\u001b[0;34m\u001b[0m\u001b[0m\n\u001b[0;32m---> 11\u001b[0;31m     \u001b[0mprint\u001b[0m\u001b[0;34m(\u001b[0m\u001b[0mresults\u001b[0m\u001b[0;34m)\u001b[0m\u001b[0;34m\u001b[0m\u001b[0;34m\u001b[0m\u001b[0m\n\u001b[0m\u001b[1;32m     12\u001b[0m \u001b[0;34m\u001b[0m\u001b[0m\n\u001b[1;32m     13\u001b[0m   \u001b[0;32mdef\u001b[0m \u001b[0m__some_func1\u001b[0m\u001b[0;34m(\u001b[0m\u001b[0mself\u001b[0m\u001b[0;34m)\u001b[0m\u001b[0;34m:\u001b[0m\u001b[0;34m\u001b[0m\u001b[0;34m\u001b[0m\u001b[0m\n",
            "\u001b[0;31mNameError\u001b[0m: name 'results' is not defined"
          ]
        }
      ]
    },
    {
      "cell_type": "code",
      "metadata": {
        "id": "1hl1xatjHUca"
      },
      "source": [
        "### Lambda "
      ],
      "execution_count": null,
      "outputs": []
    },
    {
      "cell_type": "code",
      "metadata": {
        "id": "xSvcKXP6HqZU"
      },
      "source": [
        "def add(x,y):\n",
        "  z = x + y  \n",
        "  return z"
      ],
      "execution_count": null,
      "outputs": []
    },
    {
      "cell_type": "code",
      "metadata": {
        "id": "oRV7XP5FHv7J"
      },
      "source": [
        "l1 = lambda x,y : x+y     # lambda is reserved keyword \n",
        "# There is no function name\n",
        "# Syntax --> lambda input: output"
      ],
      "execution_count": null,
      "outputs": []
    },
    {
      "cell_type": "code",
      "metadata": {
        "id": "Y1SRQphgH2Ah",
        "outputId": "c8a7834d-1c24-4c74-c1f6-dc3b6ddbfd96",
        "colab": {
          "base_uri": "https://localhost:8080/",
          "height": 34
        }
      },
      "source": [
        "l1(10, 5)"
      ],
      "execution_count": null,
      "outputs": [
        {
          "output_type": "execute_result",
          "data": {
            "text/plain": [
              "15"
            ]
          },
          "metadata": {
            "tags": []
          },
          "execution_count": 99
        }
      ]
    },
    {
      "cell_type": "code",
      "metadata": {
        "id": "zspHd2YWIID-",
        "outputId": "b04a2d63-c8f2-439d-8d53-b36de25fc90f",
        "colab": {
          "base_uri": "https://localhost:8080/",
          "height": 34
        }
      },
      "source": [
        "l1(100, 200)"
      ],
      "execution_count": null,
      "outputs": [
        {
          "output_type": "execute_result",
          "data": {
            "text/plain": [
              "300"
            ]
          },
          "metadata": {
            "tags": []
          },
          "execution_count": 101
        }
      ]
    },
    {
      "cell_type": "code",
      "metadata": {
        "id": "njJO1GsdIgxk"
      },
      "source": [
        "l2 = lambda x: \"Very high\" if x > 10 else \"Very less\""
      ],
      "execution_count": null,
      "outputs": []
    },
    {
      "cell_type": "code",
      "metadata": {
        "id": "b-02eFPaIxtR",
        "outputId": "5a2d4a0e-d723-450b-8ae4-d10ff789be26",
        "colab": {
          "base_uri": "https://localhost:8080/",
          "height": 35
        }
      },
      "source": [
        "l2(9)"
      ],
      "execution_count": null,
      "outputs": [
        {
          "output_type": "execute_result",
          "data": {
            "application/vnd.google.colaboratory.intrinsic+json": {
              "type": "string"
            },
            "text/plain": [
              "'Very less'"
            ]
          },
          "metadata": {
            "tags": []
          },
          "execution_count": 104
        }
      ]
    },
    {
      "cell_type": "code",
      "metadata": {
        "id": "VjNBf7DGI2LA",
        "outputId": "68b6a074-e273-4f39-d1b7-b2ce0682a1cc",
        "colab": {
          "base_uri": "https://localhost:8080/",
          "height": 35
        }
      },
      "source": [
        "l2(11)"
      ],
      "execution_count": null,
      "outputs": [
        {
          "output_type": "execute_result",
          "data": {
            "application/vnd.google.colaboratory.intrinsic+json": {
              "type": "string"
            },
            "text/plain": [
              "'Very high'"
            ]
          },
          "metadata": {
            "tags": []
          },
          "execution_count": 105
        }
      ]
    },
    {
      "cell_type": "code",
      "metadata": {
        "id": "iCns5DtcI3SE"
      },
      "source": [
        "# How to get user input\n",
        "# input always return a string!!!"
      ],
      "execution_count": null,
      "outputs": []
    },
    {
      "cell_type": "code",
      "metadata": {
        "id": "VpSsVu-_I-p8",
        "outputId": "d0c15e8a-8489-4983-ee8f-973fdbaaa130",
        "colab": {
          "base_uri": "https://localhost:8080/",
          "height": 34
        }
      },
      "source": [
        "num1 = input(\"Enter you number \")"
      ],
      "execution_count": null,
      "outputs": [
        {
          "output_type": "stream",
          "text": [
            "Enter you number 1234\n"
          ],
          "name": "stdout"
        }
      ]
    },
    {
      "cell_type": "code",
      "metadata": {
        "id": "cmUU4FtPJBmh",
        "outputId": "30b2553e-feeb-4080-bea3-075b4ba50238",
        "colab": {
          "base_uri": "https://localhost:8080/",
          "height": 34
        }
      },
      "source": [
        "num1, type(num1)"
      ],
      "execution_count": null,
      "outputs": [
        {
          "output_type": "execute_result",
          "data": {
            "text/plain": [
              "('1234', str)"
            ]
          },
          "metadata": {
            "tags": []
          },
          "execution_count": 111
        }
      ]
    },
    {
      "cell_type": "code",
      "metadata": {
        "id": "t5HYf4PYJGRy"
      },
      "source": [
        "num1 = int(num1)"
      ],
      "execution_count": null,
      "outputs": []
    },
    {
      "cell_type": "code",
      "metadata": {
        "id": "R8FbQPmzJUEF",
        "outputId": "7d4939b8-77ee-476f-b9c1-98ed84203cbb",
        "colab": {
          "base_uri": "https://localhost:8080/",
          "height": 34
        }
      },
      "source": [
        "type(num1)"
      ],
      "execution_count": null,
      "outputs": [
        {
          "output_type": "execute_result",
          "data": {
            "text/plain": [
              "int"
            ]
          },
          "metadata": {
            "tags": []
          },
          "execution_count": 114
        }
      ]
    },
    {
      "cell_type": "code",
      "metadata": {
        "id": "dcv_tt3jJVTE"
      },
      "source": [
        "#  how to read a json file"
      ],
      "execution_count": null,
      "outputs": []
    },
    {
      "cell_type": "code",
      "metadata": {
        "id": "h6OqR2n8JtN5"
      },
      "source": [
        "# {\n",
        "#     \"glossary\": {\n",
        "#         \"title\": \"example glossary\",\n",
        "# \t\t\"GlossDiv\": {\n",
        "#             \"title\": \"S\",\n",
        "# \t\t\t\"GlossList\": {\n",
        "#                 \"GlossEntry\": {\n",
        "#                     \"ID\": \"SGML\",\n",
        "# \t\t\t\t\t\"SortAs\": \"SGML\",\n",
        "# \t\t\t\t\t\"GlossTerm\": \"Standard Generalized Markup Language\",\n",
        "# \t\t\t\t\t\"Acronym\": \"SGML\",\n",
        "# \t\t\t\t\t\"Abbrev\": \"ISO 8879:1986\",\n",
        "# \t\t\t\t\t\"GlossDef\": {\n",
        "#                         \"para\": \"A meta-markup language, used to create markup languages such as DocBook.\",\n",
        "# \t\t\t\t\t\t\"GlossSeeAlso\": [\"GML\", \"XML\"]\n",
        "#                     },\n",
        "# \t\t\t\t\t\"GlossSee\": \"markup\"\n",
        "#                 }\n",
        "#             }\n",
        "#         }\n",
        "#     }\n",
        "# }\n",
        "# Lets save this in a file"
      ],
      "execution_count": null,
      "outputs": []
    },
    {
      "cell_type": "code",
      "metadata": {
        "id": "jL-S8GeXLcKi"
      },
      "source": [
        "with open(\"sample.json\", \"r\") as _file:\n",
        "  text = _file.read()"
      ],
      "execution_count": null,
      "outputs": []
    },
    {
      "cell_type": "code",
      "metadata": {
        "id": "sOkSja3pLty3",
        "outputId": "d9e85323-d7a6-4fd4-a16f-7d7ca3edd64b",
        "colab": {
          "base_uri": "https://localhost:8080/",
          "height": 34
        }
      },
      "source": [
        "type(text)"
      ],
      "execution_count": null,
      "outputs": [
        {
          "output_type": "execute_result",
          "data": {
            "text/plain": [
              "str"
            ]
          },
          "metadata": {
            "tags": []
          },
          "execution_count": 129
        }
      ]
    },
    {
      "cell_type": "code",
      "metadata": {
        "id": "Yt2gyEyVLwGP",
        "outputId": "bf8fba2f-1db5-4fd8-ea1f-bf25543edbae",
        "colab": {
          "base_uri": "https://localhost:8080/",
          "height": 105
        }
      },
      "source": [
        "text"
      ],
      "execution_count": null,
      "outputs": [
        {
          "output_type": "execute_result",
          "data": {
            "application/vnd.google.colaboratory.intrinsic+json": {
              "type": "string"
            },
            "text/plain": [
              "'{\\n    \"glossary\": {\\n        \"title\": \"example glossary\",\\n\\t\\t\"GlossDiv\": {\\n            \"title\": \"S\",\\n\\t\\t\\t\"GlossList\": {\\n                \"GlossEntry\": {\\n                    \"ID\": \"SGML\",\\n\\t\\t\\t\\t\\t\"SortAs\": \"SGML\",\\n\\t\\t\\t\\t\\t\"GlossTerm\": \"Standard Generalized Markup Language\",\\n\\t\\t\\t\\t\\t\"Acronym\": \"SGML\",\\n\\t\\t\\t\\t\\t\"Abbrev\": \"ISO 8879:1986\",\\n\\t\\t\\t\\t\\t\"GlossDef\": {\\n                        \"para\": \"A meta-markup language, used to create markup languages such as DocBook.\",\\n\\t\\t\\t\\t\\t\\t\"GlossSeeAlso\": [\"GML\", \"XML\"]\\n                    },\\n\\t\\t\\t\\t\\t\"GlossSee\": \"markup\"\\n                }\\n            }\\n        }\\n    }\\n}'"
            ]
          },
          "metadata": {
            "tags": []
          },
          "execution_count": 130
        }
      ]
    },
    {
      "cell_type": "code",
      "metadata": {
        "id": "HqwPg30OKUp_"
      },
      "source": [
        "import json"
      ],
      "execution_count": null,
      "outputs": []
    },
    {
      "cell_type": "code",
      "metadata": {
        "id": "jvUIBoOKK8zw"
      },
      "source": [
        "json_payload = json.load(open(\"sample.json\", \"r\"))"
      ],
      "execution_count": null,
      "outputs": []
    },
    {
      "cell_type": "code",
      "metadata": {
        "id": "nWgc0D3wLHEr",
        "outputId": "5547d074-40d4-485d-b44b-359213248fdd",
        "colab": {
          "base_uri": "https://localhost:8080/",
          "height": 34
        }
      },
      "source": [
        "type(json_payload)"
      ],
      "execution_count": null,
      "outputs": [
        {
          "output_type": "execute_result",
          "data": {
            "text/plain": [
              "dict"
            ]
          },
          "metadata": {
            "tags": []
          },
          "execution_count": 124
        }
      ]
    },
    {
      "cell_type": "code",
      "metadata": {
        "id": "aA7lYibXLL4o",
        "outputId": "c154834c-93ad-49f5-eb2b-39586dfef2c5",
        "colab": {
          "base_uri": "https://localhost:8080/",
          "height": 34
        }
      },
      "source": [
        "json_payload.keys()"
      ],
      "execution_count": null,
      "outputs": [
        {
          "output_type": "execute_result",
          "data": {
            "text/plain": [
              "dict_keys(['glossary'])"
            ]
          },
          "metadata": {
            "tags": []
          },
          "execution_count": 125
        }
      ]
    },
    {
      "cell_type": "code",
      "metadata": {
        "id": "QX2CMZaUNE6y",
        "outputId": "a192ca17-512b-4b4e-840f-8b2b3a6ca25d",
        "colab": {
          "base_uri": "https://localhost:8080/",
          "height": 193
        }
      },
      "source": [
        "json_payload[\"glossary\"]"
      ],
      "execution_count": null,
      "outputs": [
        {
          "output_type": "execute_result",
          "data": {
            "text/plain": [
              "{'GlossDiv': {'GlossList': {'GlossEntry': {'Abbrev': 'ISO 8879:1986',\n",
              "    'Acronym': 'SGML',\n",
              "    'GlossDef': {'GlossSeeAlso': ['GML', 'XML'],\n",
              "     'para': 'A meta-markup language, used to create markup languages such as DocBook.'},\n",
              "    'GlossSee': 'markup',\n",
              "    'GlossTerm': 'Standard Generalized Markup Language',\n",
              "    'ID': 'SGML',\n",
              "    'SortAs': 'SGML'}},\n",
              "  'title': 'S'},\n",
              " 'title': 'example glossary'}"
            ]
          },
          "metadata": {
            "tags": []
          },
          "execution_count": 131
        }
      ]
    },
    {
      "cell_type": "code",
      "metadata": {
        "id": "rbg3PGtSLOyH",
        "outputId": "75b668fa-fcf5-49f2-e9e6-56e28e548045",
        "colab": {
          "base_uri": "https://localhost:8080/",
          "height": 34
        }
      },
      "source": [
        "json_payload[\"glossary\"].keys()"
      ],
      "execution_count": null,
      "outputs": [
        {
          "output_type": "execute_result",
          "data": {
            "text/plain": [
              "dict_keys(['title', 'GlossDiv'])"
            ]
          },
          "metadata": {
            "tags": []
          },
          "execution_count": 126
        }
      ]
    },
    {
      "cell_type": "code",
      "metadata": {
        "id": "6LKS5kIuLXsi"
      },
      "source": [
        "# Overloadind of a function"
      ],
      "execution_count": 8,
      "outputs": []
    },
    {
      "cell_type": "code",
      "metadata": {
        "id": "oehJt-HWNefO",
        "outputId": "59406423-4aa9-44dd-ef00-a568eba0ebe1",
        "colab": {
          "base_uri": "https://localhost:8080/",
          "height": 34
        }
      },
      "source": [
        "4 + 5"
      ],
      "execution_count": 6,
      "outputs": [
        {
          "output_type": "execute_result",
          "data": {
            "text/plain": [
              "9"
            ]
          },
          "metadata": {
            "tags": []
          },
          "execution_count": 6
        }
      ]
    },
    {
      "cell_type": "code",
      "metadata": {
        "id": "t055rrpHAIi_",
        "outputId": "7b318e34-68bd-468f-8c7a-27c6550589a2",
        "colab": {
          "base_uri": "https://localhost:8080/",
          "height": 35
        }
      },
      "source": [
        "\"StringA\" + \"StringB\""
      ],
      "execution_count": 7,
      "outputs": [
        {
          "output_type": "execute_result",
          "data": {
            "application/vnd.google.colaboratory.intrinsic+json": {
              "type": "string"
            },
            "text/plain": [
              "'StringAStringB'"
            ]
          },
          "metadata": {
            "tags": []
          },
          "execution_count": 7
        }
      ]
    },
    {
      "cell_type": "code",
      "metadata": {
        "id": "uSKowsk6AL4P"
      },
      "source": [
        "# Encapsulations\n",
        "# 1. Proteced Variable \n",
        "# 2. Private Variable"
      ],
      "execution_count": 10,
      "outputs": []
    },
    {
      "cell_type": "code",
      "metadata": {
        "id": "LerT8GfdCN-U"
      },
      "source": [
        "# Protected variable \n",
        "class P:\n",
        "  def __init__(self):\n",
        "    self._a = 10        #protected varibale\n",
        "\n",
        "class C(P):\n",
        "  def __init__(self):\n",
        "    P.__init__(self)\n",
        "    self.b = 20\n",
        "    print(self._a)"
      ],
      "execution_count": 27,
      "outputs": []
    },
    {
      "cell_type": "code",
      "metadata": {
        "id": "A8oubw6jC8WQ",
        "outputId": "cf38fc31-50dd-4083-83bf-4790a3273439",
        "colab": {
          "base_uri": "https://localhost:8080/",
          "height": 34
        }
      },
      "source": [
        "c1 = C()"
      ],
      "execution_count": 28,
      "outputs": [
        {
          "output_type": "stream",
          "text": [
            "10\n"
          ],
          "name": "stdout"
        }
      ]
    },
    {
      "cell_type": "code",
      "metadata": {
        "id": "aROlTn_zEx1t",
        "outputId": "7abc14d6-fa29-46e9-a72a-285c92f2370d",
        "colab": {
          "base_uri": "https://localhost:8080/",
          "height": 167
        }
      },
      "source": [
        "c1.a"
      ],
      "execution_count": 29,
      "outputs": [
        {
          "output_type": "error",
          "ename": "AttributeError",
          "evalue": "ignored",
          "traceback": [
            "\u001b[0;31m---------------------------------------------------------------------------\u001b[0m",
            "\u001b[0;31mAttributeError\u001b[0m                            Traceback (most recent call last)",
            "\u001b[0;32m<ipython-input-29-570cc4ddf18f>\u001b[0m in \u001b[0;36m<module>\u001b[0;34m()\u001b[0m\n\u001b[0;32m----> 1\u001b[0;31m \u001b[0mc1\u001b[0m\u001b[0;34m.\u001b[0m\u001b[0ma\u001b[0m\u001b[0;34m\u001b[0m\u001b[0;34m\u001b[0m\u001b[0m\n\u001b[0m",
            "\u001b[0;31mAttributeError\u001b[0m: 'C' object has no attribute 'a'"
          ]
        }
      ]
    },
    {
      "cell_type": "code",
      "metadata": {
        "id": "HPy3qFXXDEUs",
        "outputId": "b550b2bb-55b1-499e-8f5f-ed9f2f79b49f",
        "colab": {
          "base_uri": "https://localhost:8080/",
          "height": 34
        }
      },
      "source": [
        "c1.b"
      ],
      "execution_count": 25,
      "outputs": [
        {
          "output_type": "execute_result",
          "data": {
            "text/plain": [
              "20"
            ]
          },
          "metadata": {
            "tags": []
          },
          "execution_count": 25
        }
      ]
    },
    {
      "cell_type": "code",
      "metadata": {
        "id": "Yt073VWUDhI3",
        "outputId": "6de59ead-25ed-463d-da4e-aa3d3ce0ba2c",
        "colab": {
          "base_uri": "https://localhost:8080/",
          "height": 308
        }
      },
      "source": [
        "# Private \n",
        "class P:\n",
        "  def __init__(self):\n",
        "    self.a = 10 \n",
        "    self.__b = 20      #private variables\n",
        "\n",
        "class C(P):\n",
        "  def __init__(self):\n",
        "    #P.__init__(self)\n",
        "    super().__init__()\n",
        "    print(self.__b)\n",
        "c2 = C()"
      ],
      "execution_count": 31,
      "outputs": [
        {
          "output_type": "error",
          "ename": "AttributeError",
          "evalue": "ignored",
          "traceback": [
            "\u001b[0;31m---------------------------------------------------------------------------\u001b[0m",
            "\u001b[0;31mAttributeError\u001b[0m                            Traceback (most recent call last)",
            "\u001b[0;32m<ipython-input-31-52bff691d45e>\u001b[0m in \u001b[0;36m<module>\u001b[0;34m()\u001b[0m\n\u001b[1;32m      9\u001b[0m     \u001b[0msuper\u001b[0m\u001b[0;34m(\u001b[0m\u001b[0;34m)\u001b[0m\u001b[0;34m.\u001b[0m\u001b[0m__init__\u001b[0m\u001b[0;34m(\u001b[0m\u001b[0;34m)\u001b[0m\u001b[0;34m\u001b[0m\u001b[0;34m\u001b[0m\u001b[0m\n\u001b[1;32m     10\u001b[0m     \u001b[0mprint\u001b[0m\u001b[0;34m(\u001b[0m\u001b[0mself\u001b[0m\u001b[0;34m.\u001b[0m\u001b[0m__b\u001b[0m\u001b[0;34m)\u001b[0m\u001b[0;34m\u001b[0m\u001b[0;34m\u001b[0m\u001b[0m\n\u001b[0;32m---> 11\u001b[0;31m \u001b[0mc2\u001b[0m \u001b[0;34m=\u001b[0m \u001b[0mC\u001b[0m\u001b[0;34m(\u001b[0m\u001b[0;34m)\u001b[0m\u001b[0;34m\u001b[0m\u001b[0;34m\u001b[0m\u001b[0m\n\u001b[0m",
            "\u001b[0;32m<ipython-input-31-52bff691d45e>\u001b[0m in \u001b[0;36m__init__\u001b[0;34m(self)\u001b[0m\n\u001b[1;32m      8\u001b[0m   \u001b[0;32mdef\u001b[0m \u001b[0m__init__\u001b[0m\u001b[0;34m(\u001b[0m\u001b[0mself\u001b[0m\u001b[0;34m)\u001b[0m\u001b[0;34m:\u001b[0m\u001b[0;34m\u001b[0m\u001b[0;34m\u001b[0m\u001b[0m\n\u001b[1;32m      9\u001b[0m     \u001b[0msuper\u001b[0m\u001b[0;34m(\u001b[0m\u001b[0;34m)\u001b[0m\u001b[0;34m.\u001b[0m\u001b[0m__init__\u001b[0m\u001b[0;34m(\u001b[0m\u001b[0;34m)\u001b[0m\u001b[0;34m\u001b[0m\u001b[0;34m\u001b[0m\u001b[0m\n\u001b[0;32m---> 10\u001b[0;31m     \u001b[0mprint\u001b[0m\u001b[0;34m(\u001b[0m\u001b[0mself\u001b[0m\u001b[0;34m.\u001b[0m\u001b[0m__b\u001b[0m\u001b[0;34m)\u001b[0m\u001b[0;34m\u001b[0m\u001b[0;34m\u001b[0m\u001b[0m\n\u001b[0m\u001b[1;32m     11\u001b[0m \u001b[0mc2\u001b[0m \u001b[0;34m=\u001b[0m \u001b[0mC\u001b[0m\u001b[0;34m(\u001b[0m\u001b[0;34m)\u001b[0m\u001b[0;34m\u001b[0m\u001b[0;34m\u001b[0m\u001b[0m\n",
            "\u001b[0;31mAttributeError\u001b[0m: 'C' object has no attribute '_C__b'"
          ]
        }
      ]
    },
    {
      "cell_type": "code",
      "metadata": {
        "id": "AV4mmX3fEol0"
      },
      "source": [
        "# Multiple Inheritence\n",
        "class A:\n",
        "  def __init__(self):\n",
        "    self.a = 100\n",
        "    self.d = \"A\"\n",
        "  def some_func1(self):\n",
        "    return \"This function is in class A\"\n",
        "class B:\n",
        "  def __init__(self):\n",
        "    self.b = 200\n",
        "    self.d = \"B\"\n",
        "  def some_func2(self):\n",
        "    return \"This function is in class B\"\n",
        "class C(A, B):\n",
        "  def __init__(self):\n",
        "    A.__init__(self)\n",
        "    B.__init__(self)"
      ],
      "execution_count": 50,
      "outputs": []
    },
    {
      "cell_type": "code",
      "metadata": {
        "id": "mTKlEaePGt2Z",
        "outputId": "c8815c60-5092-43f6-8ab2-2aa94789f5ca",
        "colab": {
          "base_uri": "https://localhost:8080/",
          "height": 34
        }
      },
      "source": [
        "C.mro()      # This is method resolving order !!! "
      ],
      "execution_count": 51,
      "outputs": [
        {
          "output_type": "execute_result",
          "data": {
            "text/plain": [
              "[__main__.C, __main__.A, __main__.B, object]"
            ]
          },
          "metadata": {
            "tags": []
          },
          "execution_count": 51
        }
      ]
    },
    {
      "cell_type": "code",
      "metadata": {
        "id": "oncWFEJ6GCQP"
      },
      "source": [
        "c3 = C()"
      ],
      "execution_count": 49,
      "outputs": []
    },
    {
      "cell_type": "code",
      "metadata": {
        "id": "n-oxo5J4GD5V",
        "outputId": "ebd0e30a-e86d-4aa5-cf2f-0260d9320cf1",
        "colab": {
          "base_uri": "https://localhost:8080/",
          "height": 34
        }
      },
      "source": [
        "c3.a"
      ],
      "execution_count": 53,
      "outputs": [
        {
          "output_type": "execute_result",
          "data": {
            "text/plain": [
              "(100, 200)"
            ]
          },
          "metadata": {
            "tags": []
          },
          "execution_count": 53
        }
      ]
    },
    {
      "cell_type": "code",
      "metadata": {
        "id": "bssEanK8JQ9V",
        "outputId": "748ae216-9a19-4e14-df81-6c9c27d11d8f",
        "colab": {
          "base_uri": "https://localhost:8080/",
          "height": 34
        }
      },
      "source": [
        "c3.b"
      ],
      "execution_count": 55,
      "outputs": [
        {
          "output_type": "execute_result",
          "data": {
            "text/plain": [
              "200"
            ]
          },
          "metadata": {
            "tags": []
          },
          "execution_count": 55
        }
      ]
    },
    {
      "cell_type": "code",
      "metadata": {
        "id": "BY6v4ltIJA4c",
        "outputId": "52e223ad-ab67-4033-a3e3-03b7faa36964",
        "colab": {
          "base_uri": "https://localhost:8080/",
          "height": 35
        }
      },
      "source": [
        "c3.d"
      ],
      "execution_count": 54,
      "outputs": [
        {
          "output_type": "execute_result",
          "data": {
            "application/vnd.google.colaboratory.intrinsic+json": {
              "type": "string"
            },
            "text/plain": [
              "'A'"
            ]
          },
          "metadata": {
            "tags": []
          },
          "execution_count": 54
        }
      ]
    },
    {
      "cell_type": "code",
      "metadata": {
        "id": "1f6xpMjQGGIU",
        "outputId": "e54f1246-7514-4adb-9fcb-f44729abee53",
        "colab": {
          "base_uri": "https://localhost:8080/",
          "height": 34
        }
      },
      "source": [
        "c3.some_func1(), c3.some_func2()"
      ],
      "execution_count": 38,
      "outputs": [
        {
          "output_type": "execute_result",
          "data": {
            "text/plain": [
              "('This function is in class A', 'This function is in class B')"
            ]
          },
          "metadata": {
            "tags": []
          },
          "execution_count": 38
        }
      ]
    },
    {
      "cell_type": "code",
      "metadata": {
        "id": "rZTmMSRDKAGe",
        "outputId": "489be94e-fbfe-4cf5-9f84-939ad082f61c",
        "colab": {
          "base_uri": "https://localhost:8080/",
          "height": 52
        }
      },
      "source": [
        "class A:\n",
        "  def __init__(self):\n",
        "    self.a = 10\n",
        "  def func_b(self):\n",
        "    return \"called from class A\"\n",
        "\n",
        "class B:\n",
        "  def __init__(self):\n",
        "    self.b = 10\n",
        "  def func_b(self):\n",
        "    return \"called from class B\"\n",
        "class C(A,B):\n",
        "  def __init__(self):\n",
        "    A.__init__(self)\n",
        "    B.__init__(self)\n",
        "\n",
        "c3 = C()\n",
        "c3.a, c3.b\n",
        "print(C.mro())\n",
        "c3.func_b()"
      ],
      "execution_count": 58,
      "outputs": [
        {
          "output_type": "stream",
          "text": [
            "[<class '__main__.C'>, <class '__main__.A'>, <class '__main__.B'>, <class 'object'>]\n"
          ],
          "name": "stdout"
        },
        {
          "output_type": "execute_result",
          "data": {
            "application/vnd.google.colaboratory.intrinsic+json": {
              "type": "string"
            },
            "text/plain": [
              "'called from class A'"
            ]
          },
          "metadata": {
            "tags": []
          },
          "execution_count": 58
        }
      ]
    },
    {
      "cell_type": "code",
      "metadata": {
        "id": "x6G2AjeUGXv2"
      },
      "source": [
        "#Polymorphism"
      ],
      "execution_count": 40,
      "outputs": []
    },
    {
      "cell_type": "code",
      "metadata": {
        "id": "KWUNKW0JGkhD"
      },
      "source": [
        "class A:\n",
        "  def func(self):\n",
        "    return \"Parent ClassA\"\n",
        "class B(A):\n",
        "  def func(self):\n",
        "    return \"Child ClassB\"\n",
        "class C(A):\n",
        "  def func(self):\n",
        "    return \"Child ClassC\""
      ],
      "execution_count": 61,
      "outputs": []
    },
    {
      "cell_type": "code",
      "metadata": {
        "id": "nNXpw0lgK3ZO"
      },
      "source": [
        "a = A()\n",
        "b = B()\n",
        "c = C()"
      ],
      "execution_count": 62,
      "outputs": []
    },
    {
      "cell_type": "code",
      "metadata": {
        "id": "DytITcBSK6DL",
        "outputId": "53d95c0d-ad30-4f0c-a207-392189beb61c",
        "colab": {
          "base_uri": "https://localhost:8080/",
          "height": 69
        }
      },
      "source": [
        "print(a.func())\n",
        "print(b.func())\n",
        "print(c.func())"
      ],
      "execution_count": 63,
      "outputs": [
        {
          "output_type": "stream",
          "text": [
            "Parent ClassA\n",
            "Child ClassB\n",
            "Child ClassC\n"
          ],
          "name": "stdout"
        }
      ]
    },
    {
      "cell_type": "code",
      "metadata": {
        "id": "8V65v6lgLCTD"
      },
      "source": [
        "def Pfunc(obj):\n",
        "  return obj.func()"
      ],
      "execution_count": 70,
      "outputs": []
    },
    {
      "cell_type": "code",
      "metadata": {
        "id": "E74vcisLLkna",
        "outputId": "0a921ccd-e26f-43cf-bedb-f9311374723e",
        "colab": {
          "base_uri": "https://localhost:8080/",
          "height": 35
        }
      },
      "source": [
        "Pfunc(a)"
      ],
      "execution_count": 71,
      "outputs": [
        {
          "output_type": "execute_result",
          "data": {
            "application/vnd.google.colaboratory.intrinsic+json": {
              "type": "string"
            },
            "text/plain": [
              "'Parent ClassA'"
            ]
          },
          "metadata": {
            "tags": []
          },
          "execution_count": 71
        }
      ]
    },
    {
      "cell_type": "code",
      "metadata": {
        "id": "nYk_6LdwLmZ0",
        "outputId": "2a26a90d-1638-4e85-a20f-c420d578ae7b",
        "colab": {
          "base_uri": "https://localhost:8080/",
          "height": 35
        }
      },
      "source": [
        "Pfunc(b)"
      ],
      "execution_count": 72,
      "outputs": [
        {
          "output_type": "execute_result",
          "data": {
            "application/vnd.google.colaboratory.intrinsic+json": {
              "type": "string"
            },
            "text/plain": [
              "'Child ClassB'"
            ]
          },
          "metadata": {
            "tags": []
          },
          "execution_count": 72
        }
      ]
    },
    {
      "cell_type": "code",
      "metadata": {
        "id": "KLx2mqB2LoW5",
        "outputId": "dbf7d329-154b-4cd7-ddb7-498fdae46a32",
        "colab": {
          "base_uri": "https://localhost:8080/",
          "height": 35
        }
      },
      "source": [
        "Pfunc(c)"
      ],
      "execution_count": 73,
      "outputs": [
        {
          "output_type": "execute_result",
          "data": {
            "application/vnd.google.colaboratory.intrinsic+json": {
              "type": "string"
            },
            "text/plain": [
              "'Child ClassC'"
            ]
          },
          "metadata": {
            "tags": []
          },
          "execution_count": 73
        }
      ]
    },
    {
      "cell_type": "code",
      "metadata": {
        "id": "fPG08uGTLq6x",
        "outputId": "ba13160f-bbe1-4b5c-8b06-e75cea6fff67",
        "colab": {
          "base_uri": "https://localhost:8080/",
          "height": 34
        }
      },
      "source": [
        "4 + 5"
      ],
      "execution_count": 74,
      "outputs": [
        {
          "output_type": "execute_result",
          "data": {
            "text/plain": [
              "9"
            ]
          },
          "metadata": {
            "tags": []
          },
          "execution_count": 74
        }
      ]
    },
    {
      "cell_type": "code",
      "metadata": {
        "id": "w46KVjYVL5BF",
        "outputId": "89f56180-070e-4d1f-aa12-dee659d27d00",
        "colab": {
          "base_uri": "https://localhost:8080/",
          "height": 35
        }
      },
      "source": [
        "\"A\" + \"B\""
      ],
      "execution_count": 75,
      "outputs": [
        {
          "output_type": "execute_result",
          "data": {
            "application/vnd.google.colaboratory.intrinsic+json": {
              "type": "string"
            },
            "text/plain": [
              "'AB'"
            ]
          },
          "metadata": {
            "tags": []
          },
          "execution_count": 75
        }
      ]
    },
    {
      "cell_type": "code",
      "metadata": {
        "id": "laz7SDBBL6tl"
      },
      "source": [
        "# def read_file(\"filename.xlsx\"):\n",
        "# def read_file(\"filename.csv\"):\n",
        "# def read_file(\"filename.txt\"):\n",
        "# def read_file(\"filename.json\"):"
      ],
      "execution_count": 76,
      "outputs": []
    },
    {
      "cell_type": "code",
      "metadata": {
        "id": "NFNIx3meMmmf"
      },
      "source": [
        ""
      ],
      "execution_count": null,
      "outputs": []
    }
  ]
}