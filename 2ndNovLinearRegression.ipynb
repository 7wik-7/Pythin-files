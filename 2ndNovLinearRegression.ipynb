{
  "nbformat": 4,
  "nbformat_minor": 0,
  "metadata": {
    "colab": {
      "name": "2ndNovLinearRegression.ipynb",
      "provenance": [],
      "collapsed_sections": []
    },
    "kernelspec": {
      "name": "python3",
      "display_name": "Python 3"
    }
  },
  "cells": [
    {
      "cell_type": "code",
      "metadata": {
        "id": "HXXcphczxIUZ"
      },
      "source": [
        "# <------------------INPUT VARIABLES ----------------------><--OUTPUT-->\n",
        "# Total Carpet Area | # of Rooms | # of Bedrooms | Parking | House Price \n",
        "# <----------- INDEPENDENT VARIABLES ----------------------><-DEPENDENT VARIABLE->"
      ],
      "execution_count": 1,
      "outputs": []
    },
    {
      "cell_type": "code",
      "metadata": {
        "id": "uMZEwDaoyYyw"
      },
      "source": [
        "#LR Assumptions \n",
        "# 1. The dependent variable should have a linear relationship with independent variable \n",
        "# irrespective of directly/inversely proportional\n",
        "# 2. None of your independent variable should be correlated, if any delete the column\n",
        "# 3. Residual (TBD)\n",
        "# 4. Linear Regression always expects you to enter numerical value. \n",
        "#    All boolean values should be converted to numerical \n",
        "#    All string values should be converted to numerical through OneHotEncoding techniques\n",
        "#    Type_of_House => Apartment, Villa, PentHouse -> 1,0,0 | 0,1,0 | 0,0,1\n",
        "#    Type_of_House_A, Type_of_House_V, Type_of_House_P\n",
        "#Apartment         1,               0,               0\n",
        "#Villa             0,               1,               0\n",
        "#PentHouse         0,               0,               1"
      ],
      "execution_count": 2,
      "outputs": []
    },
    {
      "cell_type": "code",
      "metadata": {
        "id": "wZOD3_IY3sW2"
      },
      "source": [
        "# house_price = m1*(carpet_area) + m2*(no_of_rooms) + m3*(no_of_bedroom) + m4*(parking) + C\n",
        "# LR will help you to find values of m1/m2/m3/m4 & C\n",
        "# house_price = 3*(carpet_area) + 5.3*(no_of_rooms) + 6.1*(no_of_bedrooms) + 2*parking + 17"
      ],
      "execution_count": null,
      "outputs": []
    },
    {
      "cell_type": "code",
      "metadata": {
        "id": "4gXWEYN-06us"
      },
      "source": [
        "# This is not an example of Regression\n",
        "# Blood Group | Insuline Level | Glusoce Level | Skin Thickness (mm) | Skin Thickness (cm) | Diabetes (Y/N)Vill"
      ],
      "execution_count": 3,
      "outputs": []
    },
    {
      "cell_type": "code",
      "metadata": {
        "id": "28azwlXo3ZXY"
      },
      "source": [
        "import pandas as pd \n",
        "df = pd.DataFrame(columns=[\"Type_of_House\"])"
      ],
      "execution_count": 5,
      "outputs": []
    },
    {
      "cell_type": "code",
      "metadata": {
        "id": "TOBedP1t9imR"
      },
      "source": [
        "df[\"Type_of_House\"] = [\"Apt\", \"Pent\", \"Villa\", \"Pent\", \"Pent\", \"Pent\", \"Villa\", \"Apt\"]"
      ],
      "execution_count": 6,
      "outputs": []
    },
    {
      "cell_type": "code",
      "metadata": {
        "id": "Yr0em1Ga-Fwy",
        "outputId": "27749e65-5f45-43a7-f725-f114b5241bcd",
        "colab": {
          "base_uri": "https://localhost:8080/",
          "height": 298
        }
      },
      "source": [
        "df"
      ],
      "execution_count": 8,
      "outputs": [
        {
          "output_type": "execute_result",
          "data": {
            "text/html": [
              "<div>\n",
              "<style scoped>\n",
              "    .dataframe tbody tr th:only-of-type {\n",
              "        vertical-align: middle;\n",
              "    }\n",
              "\n",
              "    .dataframe tbody tr th {\n",
              "        vertical-align: top;\n",
              "    }\n",
              "\n",
              "    .dataframe thead th {\n",
              "        text-align: right;\n",
              "    }\n",
              "</style>\n",
              "<table border=\"1\" class=\"dataframe\">\n",
              "  <thead>\n",
              "    <tr style=\"text-align: right;\">\n",
              "      <th></th>\n",
              "      <th>Type_of_House</th>\n",
              "    </tr>\n",
              "  </thead>\n",
              "  <tbody>\n",
              "    <tr>\n",
              "      <th>0</th>\n",
              "      <td>Apt</td>\n",
              "    </tr>\n",
              "    <tr>\n",
              "      <th>1</th>\n",
              "      <td>Pent</td>\n",
              "    </tr>\n",
              "    <tr>\n",
              "      <th>2</th>\n",
              "      <td>Villa</td>\n",
              "    </tr>\n",
              "    <tr>\n",
              "      <th>3</th>\n",
              "      <td>Pent</td>\n",
              "    </tr>\n",
              "    <tr>\n",
              "      <th>4</th>\n",
              "      <td>Pent</td>\n",
              "    </tr>\n",
              "    <tr>\n",
              "      <th>5</th>\n",
              "      <td>Pent</td>\n",
              "    </tr>\n",
              "    <tr>\n",
              "      <th>6</th>\n",
              "      <td>Villa</td>\n",
              "    </tr>\n",
              "    <tr>\n",
              "      <th>7</th>\n",
              "      <td>Apt</td>\n",
              "    </tr>\n",
              "  </tbody>\n",
              "</table>\n",
              "</div>"
            ],
            "text/plain": [
              "  Type_of_House\n",
              "0           Apt\n",
              "1          Pent\n",
              "2         Villa\n",
              "3          Pent\n",
              "4          Pent\n",
              "5          Pent\n",
              "6         Villa\n",
              "7           Apt"
            ]
          },
          "metadata": {
            "tags": []
          },
          "execution_count": 8
        }
      ]
    },
    {
      "cell_type": "code",
      "metadata": {
        "id": "sMDwxFu-97Kg",
        "outputId": "4015d75b-ba10-46ae-fbbb-b64154f00110",
        "colab": {
          "base_uri": "https://localhost:8080/",
          "height": 298
        }
      },
      "source": [
        "pd.get_dummies(df.Type_of_House)"
      ],
      "execution_count": 7,
      "outputs": [
        {
          "output_type": "execute_result",
          "data": {
            "text/html": [
              "<div>\n",
              "<style scoped>\n",
              "    .dataframe tbody tr th:only-of-type {\n",
              "        vertical-align: middle;\n",
              "    }\n",
              "\n",
              "    .dataframe tbody tr th {\n",
              "        vertical-align: top;\n",
              "    }\n",
              "\n",
              "    .dataframe thead th {\n",
              "        text-align: right;\n",
              "    }\n",
              "</style>\n",
              "<table border=\"1\" class=\"dataframe\">\n",
              "  <thead>\n",
              "    <tr style=\"text-align: right;\">\n",
              "      <th></th>\n",
              "      <th>Apt</th>\n",
              "      <th>Pent</th>\n",
              "      <th>Villa</th>\n",
              "    </tr>\n",
              "  </thead>\n",
              "  <tbody>\n",
              "    <tr>\n",
              "      <th>0</th>\n",
              "      <td>1</td>\n",
              "      <td>0</td>\n",
              "      <td>0</td>\n",
              "    </tr>\n",
              "    <tr>\n",
              "      <th>1</th>\n",
              "      <td>0</td>\n",
              "      <td>1</td>\n",
              "      <td>0</td>\n",
              "    </tr>\n",
              "    <tr>\n",
              "      <th>2</th>\n",
              "      <td>0</td>\n",
              "      <td>0</td>\n",
              "      <td>1</td>\n",
              "    </tr>\n",
              "    <tr>\n",
              "      <th>3</th>\n",
              "      <td>0</td>\n",
              "      <td>1</td>\n",
              "      <td>0</td>\n",
              "    </tr>\n",
              "    <tr>\n",
              "      <th>4</th>\n",
              "      <td>0</td>\n",
              "      <td>1</td>\n",
              "      <td>0</td>\n",
              "    </tr>\n",
              "    <tr>\n",
              "      <th>5</th>\n",
              "      <td>0</td>\n",
              "      <td>1</td>\n",
              "      <td>0</td>\n",
              "    </tr>\n",
              "    <tr>\n",
              "      <th>6</th>\n",
              "      <td>0</td>\n",
              "      <td>0</td>\n",
              "      <td>1</td>\n",
              "    </tr>\n",
              "    <tr>\n",
              "      <th>7</th>\n",
              "      <td>1</td>\n",
              "      <td>0</td>\n",
              "      <td>0</td>\n",
              "    </tr>\n",
              "  </tbody>\n",
              "</table>\n",
              "</div>"
            ],
            "text/plain": [
              "   Apt  Pent  Villa\n",
              "0    1     0      0\n",
              "1    0     1      0\n",
              "2    0     0      1\n",
              "3    0     1      0\n",
              "4    0     1      0\n",
              "5    0     1      0\n",
              "6    0     0      1\n",
              "7    1     0      0"
            ]
          },
          "metadata": {
            "tags": []
          },
          "execution_count": 7
        }
      ]
    },
    {
      "cell_type": "code",
      "metadata": {
        "id": "kjr_kPzR-Avp"
      },
      "source": [
        "# Maths behind the scenes"
      ],
      "execution_count": 9,
      "outputs": []
    },
    {
      "cell_type": "code",
      "metadata": {
        "id": "J8B7B6_7_XqA"
      },
      "source": [
        "# house_price = 3*(carpet_area) + 5.3*(no_of_rooms) + 6.1*(no_of_bedrooms) + 2*parking + 17\n",
        "# Where are these slopes(or coeff of input variable) + Constants are coming"
      ],
      "execution_count": 11,
      "outputs": []
    },
    {
      "cell_type": "code",
      "metadata": {
        "id": "T4Lftx4H_bkk"
      },
      "source": [
        ""
      ],
      "execution_count": 12,
      "outputs": []
    },
    {
      "cell_type": "code",
      "metadata": {
        "id": "mzj9N5QJAPQe"
      },
      "source": [
        "import numpy as np\n",
        "df = pd.DataFrame(columns=[\"carpet_area\", \"no_of_rooms\", \"no_of_bedrooms\", \"parking\", \"PRICE\"])\n",
        "df.carpet_area = np.random.randint(1600, 3000, 10)\n",
        "df.no_of_rooms = np.random.randint(1, 10, 10)\n",
        "df.no_of_bedrooms = np.random.randint(2, 5, 10)\n",
        "df.parking = np.random.randint(0, 2, 10)\n",
        "df.PRICE = np.random.random(10) + np.random.randint(2, 10, 10)*100"
      ],
      "execution_count": 66,
      "outputs": []
    },
    {
      "cell_type": "code",
      "metadata": {
        "id": "B1KnSMShAPsQ",
        "outputId": "a47e84aa-1ed9-49c2-f9c7-a7f8d83d813f",
        "colab": {
          "base_uri": "https://localhost:8080/",
          "height": 361
        }
      },
      "source": [
        "df_raw = df.copy()\n",
        "df"
      ],
      "execution_count": 67,
      "outputs": [
        {
          "output_type": "execute_result",
          "data": {
            "text/html": [
              "<div>\n",
              "<style scoped>\n",
              "    .dataframe tbody tr th:only-of-type {\n",
              "        vertical-align: middle;\n",
              "    }\n",
              "\n",
              "    .dataframe tbody tr th {\n",
              "        vertical-align: top;\n",
              "    }\n",
              "\n",
              "    .dataframe thead th {\n",
              "        text-align: right;\n",
              "    }\n",
              "</style>\n",
              "<table border=\"1\" class=\"dataframe\">\n",
              "  <thead>\n",
              "    <tr style=\"text-align: right;\">\n",
              "      <th></th>\n",
              "      <th>carpet_area</th>\n",
              "      <th>no_of_rooms</th>\n",
              "      <th>no_of_bedrooms</th>\n",
              "      <th>parking</th>\n",
              "      <th>PRICE</th>\n",
              "    </tr>\n",
              "  </thead>\n",
              "  <tbody>\n",
              "    <tr>\n",
              "      <th>0</th>\n",
              "      <td>2420</td>\n",
              "      <td>7</td>\n",
              "      <td>2</td>\n",
              "      <td>0</td>\n",
              "      <td>400.332897</td>\n",
              "    </tr>\n",
              "    <tr>\n",
              "      <th>1</th>\n",
              "      <td>1952</td>\n",
              "      <td>9</td>\n",
              "      <td>3</td>\n",
              "      <td>0</td>\n",
              "      <td>400.858354</td>\n",
              "    </tr>\n",
              "    <tr>\n",
              "      <th>2</th>\n",
              "      <td>2507</td>\n",
              "      <td>7</td>\n",
              "      <td>4</td>\n",
              "      <td>0</td>\n",
              "      <td>600.851557</td>\n",
              "    </tr>\n",
              "    <tr>\n",
              "      <th>3</th>\n",
              "      <td>1803</td>\n",
              "      <td>8</td>\n",
              "      <td>3</td>\n",
              "      <td>0</td>\n",
              "      <td>400.544752</td>\n",
              "    </tr>\n",
              "    <tr>\n",
              "      <th>4</th>\n",
              "      <td>2075</td>\n",
              "      <td>9</td>\n",
              "      <td>3</td>\n",
              "      <td>1</td>\n",
              "      <td>700.946210</td>\n",
              "    </tr>\n",
              "    <tr>\n",
              "      <th>5</th>\n",
              "      <td>1963</td>\n",
              "      <td>6</td>\n",
              "      <td>3</td>\n",
              "      <td>1</td>\n",
              "      <td>700.353955</td>\n",
              "    </tr>\n",
              "    <tr>\n",
              "      <th>6</th>\n",
              "      <td>2751</td>\n",
              "      <td>5</td>\n",
              "      <td>2</td>\n",
              "      <td>1</td>\n",
              "      <td>700.335758</td>\n",
              "    </tr>\n",
              "    <tr>\n",
              "      <th>7</th>\n",
              "      <td>1988</td>\n",
              "      <td>4</td>\n",
              "      <td>4</td>\n",
              "      <td>1</td>\n",
              "      <td>300.538673</td>\n",
              "    </tr>\n",
              "    <tr>\n",
              "      <th>8</th>\n",
              "      <td>2618</td>\n",
              "      <td>4</td>\n",
              "      <td>3</td>\n",
              "      <td>0</td>\n",
              "      <td>500.575485</td>\n",
              "    </tr>\n",
              "    <tr>\n",
              "      <th>9</th>\n",
              "      <td>2612</td>\n",
              "      <td>4</td>\n",
              "      <td>3</td>\n",
              "      <td>1</td>\n",
              "      <td>400.142151</td>\n",
              "    </tr>\n",
              "  </tbody>\n",
              "</table>\n",
              "</div>"
            ],
            "text/plain": [
              "   carpet_area  no_of_rooms  no_of_bedrooms  parking       PRICE\n",
              "0         2420            7               2        0  400.332897\n",
              "1         1952            9               3        0  400.858354\n",
              "2         2507            7               4        0  600.851557\n",
              "3         1803            8               3        0  400.544752\n",
              "4         2075            9               3        1  700.946210\n",
              "5         1963            6               3        1  700.353955\n",
              "6         2751            5               2        1  700.335758\n",
              "7         1988            4               4        1  300.538673\n",
              "8         2618            4               3        0  500.575485\n",
              "9         2612            4               3        1  400.142151"
            ]
          },
          "metadata": {
            "tags": []
          },
          "execution_count": 67
        }
      ]
    },
    {
      "cell_type": "code",
      "metadata": {
        "id": "rw4dnKiHAv5-"
      },
      "source": [
        "# m1 = r1.Sy/Sx\n",
        "# m1 = slope/coeff. of carpet_area \n",
        "# r = Pearson Correlation \n",
        "# Sy = Std of y \n",
        "# Sx = Std of x "
      ],
      "execution_count": 68,
      "outputs": []
    },
    {
      "cell_type": "code",
      "metadata": {
        "id": "qKUm1MhRA9I6"
      },
      "source": [
        "! pip install -q latexify-py"
      ],
      "execution_count": 51,
      "outputs": []
    },
    {
      "cell_type": "code",
      "metadata": {
        "id": "Kc9qm6aFCQSY"
      },
      "source": [
        "import latexify\n",
        "import math"
      ],
      "execution_count": 69,
      "outputs": []
    },
    {
      "cell_type": "code",
      "metadata": {
        "id": "mkaiWs6iCTLT",
        "outputId": "10f5e476-0c93-433b-ca55-70a99c1e6d1b",
        "colab": {
          "base_uri": "https://localhost:8080/",
          "height": 54
        }
      },
      "source": [
        "@latexify.with_latex\n",
        "def m():\n",
        "  return r*S_y/S_x\n",
        "m"
      ],
      "execution_count": 70,
      "outputs": [
        {
          "output_type": "execute_result",
          "data": {
            "text/latex": "$$ \\displaystyle \\mathrm{m}()\\triangleq \\frac{rS_y}{S_x} $$",
            "text/plain": [
              "<latexify.core.with_latex.<locals>._LatexifiedFunction at 0x7f0844661828>"
            ]
          },
          "metadata": {
            "tags": []
          },
          "execution_count": 70
        }
      ]
    },
    {
      "cell_type": "code",
      "metadata": {
        "id": "U2lKLSVbCaec",
        "outputId": "a36f3e7b-ee60-4106-9214-7e7814020c5f",
        "colab": {
          "base_uri": "https://localhost:8080/",
          "height": 70
        }
      },
      "source": [
        "@latexify.with_latex\n",
        "def r():\n",
        "  return sum((x-x_m)*(y-y_m))/math.sqrt(sum(x-x_m)**2 * sum(y-y_m)**2)\n",
        "r\n",
        "#x_m - stands for mean of x\n",
        "#y_m - stands for mean of y "
      ],
      "execution_count": 71,
      "outputs": [
        {
          "output_type": "execute_result",
          "data": {
            "text/latex": "$$ \\displaystyle \\mathrm{r}()\\triangleq \\frac{\\sum \\left({(x - x_m)(y - y_m)}\\right)}{\\sqrt{\\sum \\left({x - x_m}\\right)^{2}\\sum \\left({y - y_m}\\right)^{2}}} $$",
            "text/plain": [
              "<latexify.core.with_latex.<locals>._LatexifiedFunction at 0x7f0852403860>"
            ]
          },
          "metadata": {
            "tags": []
          },
          "execution_count": 71
        }
      ]
    },
    {
      "cell_type": "code",
      "metadata": {
        "id": "9TtuyrUWCzye"
      },
      "source": [
        "ca_m = df.carpet_area.mean(), \n",
        "p_m  = df.PRICE.mean()"
      ],
      "execution_count": 72,
      "outputs": []
    },
    {
      "cell_type": "code",
      "metadata": {
        "id": "TVG3nUWkDfbD"
      },
      "source": [
        "df[\"ca-m\"] = df.carpet_area - ca_m\n",
        "df[\"Price-m\"] = df.PRICE - p_m"
      ],
      "execution_count": 73,
      "outputs": []
    },
    {
      "cell_type": "code",
      "metadata": {
        "id": "HjsFiGoaDuqT"
      },
      "source": [
        "df[\"ca-m*Price-m\"] = df[\"ca-m\"] * df[\"Price-m\"]"
      ],
      "execution_count": 74,
      "outputs": []
    },
    {
      "cell_type": "code",
      "metadata": {
        "id": "EBQoBUkKDu6d",
        "outputId": "39ce75b4-07d8-447f-e569-ec5a94228c08",
        "colab": {
          "base_uri": "https://localhost:8080/"
        }
      },
      "source": [
        "df[\"ca-m*Price-m\"].sum()  # numerator for \"r\""
      ],
      "execution_count": 75,
      "outputs": [
        {
          "output_type": "execute_result",
          "data": {
            "text/plain": [
              "105005.7290837517"
            ]
          },
          "metadata": {
            "tags": []
          },
          "execution_count": 75
        }
      ]
    },
    {
      "cell_type": "code",
      "metadata": {
        "id": "9-J1UXywEFy8",
        "outputId": "ff48db64-d62e-4033-828a-e4e161c381aa",
        "colab": {
          "base_uri": "https://localhost:8080/",
          "height": 68
        }
      },
      "source": [
        "@latexify.with_latex\n",
        "def S_y():\n",
        "  return math.sqrt(sum(y-y_m)**2/n)\n",
        "S_y"
      ],
      "execution_count": 76,
      "outputs": [
        {
          "output_type": "execute_result",
          "data": {
            "text/latex": "$$ \\displaystyle \\mathrm{S_y}()\\triangleq \\sqrt{\\frac{\\sum \\left({y - y_m}\\right)^{2}}{n}} $$",
            "text/plain": [
              "<latexify.core.with_latex.<locals>._LatexifiedFunction at 0x7f0844661710>"
            ]
          },
          "metadata": {
            "tags": []
          },
          "execution_count": 76
        }
      ]
    },
    {
      "cell_type": "code",
      "metadata": {
        "id": "u-Qxv4ncEiSe",
        "outputId": "6fdc2a5b-a0cb-4f28-f2b4-f595eefea073",
        "colab": {
          "base_uri": "https://localhost:8080/",
          "height": 68
        }
      },
      "source": [
        "@latexify.with_latex\n",
        "def S_x():\n",
        "  return math.sqrt(sum(x-x_m)**2/n)\n",
        "S_x"
      ],
      "execution_count": 77,
      "outputs": [
        {
          "output_type": "execute_result",
          "data": {
            "text/latex": "$$ \\displaystyle \\mathrm{S_x}()\\triangleq \\sqrt{\\frac{\\sum \\left({x - x_m}\\right)^{2}}{n}} $$",
            "text/plain": [
              "<latexify.core.with_latex.<locals>._LatexifiedFunction at 0x7f084466e898>"
            ]
          },
          "metadata": {
            "tags": []
          },
          "execution_count": 77
        }
      ]
    },
    {
      "cell_type": "code",
      "metadata": {
        "id": "SX0wdP0pG8qL"
      },
      "source": [
        ""
      ],
      "execution_count": 88,
      "outputs": []
    },
    {
      "cell_type": "code",
      "metadata": {
        "id": "LRISh3vVEoQ3",
        "outputId": "0922bf53-6f9a-46d8-f2d3-0b960d989024",
        "colab": {
          "base_uri": "https://localhost:8080/",
          "height": 38
        }
      },
      "source": [
        "# y = mx + c\n",
        "# y - mx \n",
        "# constant = y_m - m*x_m\n",
        "@latexify.with_latex\n",
        "def constant():\n",
        "  return y_m - m*x_m\n",
        "constant"
      ],
      "execution_count": 78,
      "outputs": [
        {
          "output_type": "execute_result",
          "data": {
            "text/latex": "$$ \\displaystyle \\mathrm{constant}()\\triangleq y_m - mx_m $$",
            "text/plain": [
              "<latexify.core.with_latex.<locals>._LatexifiedFunction at 0x7f08445c05c0>"
            ]
          },
          "metadata": {
            "tags": []
          },
          "execution_count": 78
        }
      ]
    },
    {
      "cell_type": "code",
      "metadata": {
        "id": "DlUc1105E00q"
      },
      "source": [
        "from sklearn.linear_model import LinearRegression"
      ],
      "execution_count": 79,
      "outputs": []
    },
    {
      "cell_type": "code",
      "metadata": {
        "id": "OXsZ-7irF66u",
        "outputId": "afb65cce-d30f-40bc-b8d1-ca50cf9fa012",
        "colab": {
          "base_uri": "https://localhost:8080/",
          "height": 361
        }
      },
      "source": [
        "df_raw.iloc[:, 0:4]"
      ],
      "execution_count": 84,
      "outputs": [
        {
          "output_type": "execute_result",
          "data": {
            "text/html": [
              "<div>\n",
              "<style scoped>\n",
              "    .dataframe tbody tr th:only-of-type {\n",
              "        vertical-align: middle;\n",
              "    }\n",
              "\n",
              "    .dataframe tbody tr th {\n",
              "        vertical-align: top;\n",
              "    }\n",
              "\n",
              "    .dataframe thead th {\n",
              "        text-align: right;\n",
              "    }\n",
              "</style>\n",
              "<table border=\"1\" class=\"dataframe\">\n",
              "  <thead>\n",
              "    <tr style=\"text-align: right;\">\n",
              "      <th></th>\n",
              "      <th>carpet_area</th>\n",
              "      <th>no_of_rooms</th>\n",
              "      <th>no_of_bedrooms</th>\n",
              "      <th>parking</th>\n",
              "    </tr>\n",
              "  </thead>\n",
              "  <tbody>\n",
              "    <tr>\n",
              "      <th>0</th>\n",
              "      <td>2420</td>\n",
              "      <td>7</td>\n",
              "      <td>2</td>\n",
              "      <td>0</td>\n",
              "    </tr>\n",
              "    <tr>\n",
              "      <th>1</th>\n",
              "      <td>1952</td>\n",
              "      <td>9</td>\n",
              "      <td>3</td>\n",
              "      <td>0</td>\n",
              "    </tr>\n",
              "    <tr>\n",
              "      <th>2</th>\n",
              "      <td>2507</td>\n",
              "      <td>7</td>\n",
              "      <td>4</td>\n",
              "      <td>0</td>\n",
              "    </tr>\n",
              "    <tr>\n",
              "      <th>3</th>\n",
              "      <td>1803</td>\n",
              "      <td>8</td>\n",
              "      <td>3</td>\n",
              "      <td>0</td>\n",
              "    </tr>\n",
              "    <tr>\n",
              "      <th>4</th>\n",
              "      <td>2075</td>\n",
              "      <td>9</td>\n",
              "      <td>3</td>\n",
              "      <td>1</td>\n",
              "    </tr>\n",
              "    <tr>\n",
              "      <th>5</th>\n",
              "      <td>1963</td>\n",
              "      <td>6</td>\n",
              "      <td>3</td>\n",
              "      <td>1</td>\n",
              "    </tr>\n",
              "    <tr>\n",
              "      <th>6</th>\n",
              "      <td>2751</td>\n",
              "      <td>5</td>\n",
              "      <td>2</td>\n",
              "      <td>1</td>\n",
              "    </tr>\n",
              "    <tr>\n",
              "      <th>7</th>\n",
              "      <td>1988</td>\n",
              "      <td>4</td>\n",
              "      <td>4</td>\n",
              "      <td>1</td>\n",
              "    </tr>\n",
              "    <tr>\n",
              "      <th>8</th>\n",
              "      <td>2618</td>\n",
              "      <td>4</td>\n",
              "      <td>3</td>\n",
              "      <td>0</td>\n",
              "    </tr>\n",
              "    <tr>\n",
              "      <th>9</th>\n",
              "      <td>2612</td>\n",
              "      <td>4</td>\n",
              "      <td>3</td>\n",
              "      <td>1</td>\n",
              "    </tr>\n",
              "  </tbody>\n",
              "</table>\n",
              "</div>"
            ],
            "text/plain": [
              "   carpet_area  no_of_rooms  no_of_bedrooms  parking\n",
              "0         2420            7               2        0\n",
              "1         1952            9               3        0\n",
              "2         2507            7               4        0\n",
              "3         1803            8               3        0\n",
              "4         2075            9               3        1\n",
              "5         1963            6               3        1\n",
              "6         2751            5               2        1\n",
              "7         1988            4               4        1\n",
              "8         2618            4               3        0\n",
              "9         2612            4               3        1"
            ]
          },
          "metadata": {
            "tags": []
          },
          "execution_count": 84
        }
      ]
    },
    {
      "cell_type": "code",
      "metadata": {
        "id": "EDEpP6fxHapv"
      },
      "source": [
        ""
      ],
      "execution_count": null,
      "outputs": []
    },
    {
      "cell_type": "code",
      "metadata": {
        "id": "8FMzWP1_Fhb4",
        "outputId": "3eb5fa14-45d5-4c06-d796-93a835558b35",
        "colab": {
          "base_uri": "https://localhost:8080/"
        }
      },
      "source": [
        "lr = LinearRegression()\n",
        "lr.fit(df.iloc[:, 0:4], df.PRICE)"
      ],
      "execution_count": 85,
      "outputs": [
        {
          "output_type": "execute_result",
          "data": {
            "text/plain": [
              "LinearRegression(copy_X=True, fit_intercept=True, n_jobs=None, normalize=False)"
            ]
          },
          "metadata": {
            "tags": []
          },
          "execution_count": 85
        }
      ]
    },
    {
      "cell_type": "code",
      "metadata": {
        "id": "y9FvtkgMH6j1",
        "outputId": "d8aff4a7-ba5b-4cb4-e3cc-2aa0a7380895",
        "colab": {
          "base_uri": "https://localhost:8080/"
        }
      },
      "source": [
        "df_raw.columns"
      ],
      "execution_count": 90,
      "outputs": [
        {
          "output_type": "execute_result",
          "data": {
            "text/plain": [
              "Index(['carpet_area', 'no_of_rooms', 'no_of_bedrooms', 'parking', 'PRICE'], dtype='object')"
            ]
          },
          "metadata": {
            "tags": []
          },
          "execution_count": 90
        }
      ]
    },
    {
      "cell_type": "code",
      "metadata": {
        "id": "itfhycvjFrQB",
        "outputId": "ac551292-eabd-4b28-9bae-40780ced495e",
        "colab": {
          "base_uri": "https://localhost:8080/"
        }
      },
      "source": [
        "print(lr.coef_)\n",
        "print(lr.intercept_) "
      ],
      "execution_count": 89,
      "outputs": [
        {
          "output_type": "stream",
          "text": [
            "[  0.26943452  55.31954228   9.54471317 172.48216477]\n",
            "-564.16034262698\n"
          ],
          "name": "stdout"
        }
      ]
    },
    {
      "cell_type": "code",
      "metadata": {
        "id": "Mij5rr3jGLpg"
      },
      "source": [
        "# house_price = 0.26*carpet_area + 55.31 * no_of_rooms + 9.54 * no_of_bedrooms + 172.48 * parking +- 564.16"
      ],
      "execution_count": 91,
      "outputs": []
    },
    {
      "cell_type": "code",
      "metadata": {
        "id": "LGTYxi8nGM_f"
      },
      "source": [
        ""
      ],
      "execution_count": null,
      "outputs": []
    }
  ]
}