{
  "nbformat": 4,
  "nbformat_minor": 0,
  "metadata": {
    "colab": {
      "name": "16th Oct Python 104.ipynb",
      "provenance": [],
      "collapsed_sections": []
    },
    "kernelspec": {
      "name": "python3",
      "display_name": "Python 3"
    }
  },
  "cells": [
    {
      "cell_type": "code",
      "metadata": {
        "id": "1dCwEKFsD5NQ"
      },
      "source": [
        "# IF Statements "
      ],
      "execution_count": 1,
      "outputs": []
    },
    {
      "cell_type": "code",
      "metadata": {
        "id": "21OrjiO3Ep2D"
      },
      "source": [
        "a = 12\n",
        "\n",
        "if a==10:     # if statement makes a condition \n",
        "  print(\"YES a is 10\")   # based on the validity of the above condition this statement gets executed"
      ],
      "execution_count": 4,
      "outputs": []
    },
    {
      "cell_type": "code",
      "metadata": {
        "id": "BQ_ip57NEz4a"
      },
      "source": [
        "# == is for checking \n",
        "# = is for assignment"
      ],
      "execution_count": 5,
      "outputs": []
    },
    {
      "cell_type": "code",
      "metadata": {
        "id": "b5Xy7wuNFFsl",
        "outputId": "f3eb275c-6bc5-4e7e-d45f-cb79696d6dd4",
        "colab": {
          "base_uri": "https://localhost:8080/",
          "height": 34
        }
      },
      "source": [
        "a  = 15\n",
        "if a == 12:\n",
        "  print(\"a is 12\")\n",
        "print(\"This statement will work always\")"
      ],
      "execution_count": 7,
      "outputs": [
        {
          "output_type": "stream",
          "text": [
            "This statement will work always\n"
          ],
          "name": "stdout"
        }
      ]
    },
    {
      "cell_type": "code",
      "metadata": {
        "id": "7LzjVC2VFZ9X",
        "outputId": "ef3a5ad2-c6c7-4591-e0db-72068dd10600",
        "colab": {
          "base_uri": "https://localhost:8080/",
          "height": 52
        }
      },
      "source": [
        "a=9 \n",
        "if a == 10:\n",
        "  print(\"a is 10\")\n",
        "else:\n",
        "  print('a is not 10')\n",
        "print(\"This statement will work always\")"
      ],
      "execution_count": 10,
      "outputs": [
        {
          "output_type": "stream",
          "text": [
            "a is not 10\n",
            "This statement will work always\n"
          ],
          "name": "stdout"
        }
      ]
    },
    {
      "cell_type": "code",
      "metadata": {
        "id": "kg65z5xhFzZN",
        "outputId": "1b17311c-0b3f-42c9-8d70-2c535b3be9b5",
        "colab": {
          "base_uri": "https://localhost:8080/",
          "height": 34
        }
      },
      "source": [
        "marks_obtained = 90\n",
        "\n",
        "if 100 >= marks_obtained> 90:\n",
        "  print(\"Ist division\")\n",
        "elif 90 >= marks_obtained > 70:\n",
        "  print(\"IInd division\")\n",
        "elif 70 >= marks_obtained > 50:\n",
        "  print(\"IIIrd\")\n",
        "elif 50 >= marks_obtained > 40:\n",
        "  print(\"IVth\")\n",
        "elif 40 >= marks_obtained > 0: \n",
        "  print(\"Sorry,... better luck next time\")\n",
        "else:\n",
        "  print(\"Invalid Score\")"
      ],
      "execution_count": 14,
      "outputs": [
        {
          "output_type": "stream",
          "text": [
            "IInd division\n"
          ],
          "name": "stdout"
        }
      ]
    },
    {
      "cell_type": "code",
      "metadata": {
        "id": "URaNPOFAGyTk"
      },
      "source": [
        "# 100 > marks_obtained> 90\n",
        "# marks_obtained > 90 and marks_obtained < 100\n",
        "# Both are same!"
      ],
      "execution_count": null,
      "outputs": []
    },
    {
      "cell_type": "code",
      "metadata": {
        "id": "E8tAvgMLHx3e",
        "outputId": "23d51bbd-2166-4560-e22d-5df9e06c0442",
        "colab": {
          "base_uri": "https://localhost:8080/",
          "height": 105
        }
      },
      "source": [
        "alist = [1,2,3,4,5]\n",
        "for i in alist:\n",
        "  print(i)"
      ],
      "execution_count": 15,
      "outputs": [
        {
          "output_type": "stream",
          "text": [
            "1\n",
            "2\n",
            "3\n",
            "4\n",
            "5\n"
          ],
          "name": "stdout"
        }
      ]
    },
    {
      "cell_type": "code",
      "metadata": {
        "id": "QQhiEoHXH3Q6",
        "outputId": "7fc9de01-1c07-48d8-d3e4-4cb2f30fdaf4",
        "colab": {
          "base_uri": "https://localhost:8080/",
          "height": 210
        }
      },
      "source": [
        "a = 10\n",
        "while a <= 20:\n",
        "  print(\"Value of a :\", a)\n",
        "  a = a + 1"
      ],
      "execution_count": 17,
      "outputs": [
        {
          "output_type": "stream",
          "text": [
            "Value of a : 10\n",
            "Value of a : 11\n",
            "Value of a : 12\n",
            "Value of a : 13\n",
            "Value of a : 14\n",
            "Value of a : 15\n",
            "Value of a : 16\n",
            "Value of a : 17\n",
            "Value of a : 18\n",
            "Value of a : 19\n",
            "Value of a : 20\n"
          ],
          "name": "stdout"
        }
      ]
    },
    {
      "cell_type": "code",
      "metadata": {
        "id": "HBgK3CC_Il5I"
      },
      "source": [
        "# # This is infinite loop, please do not run this\n",
        "# a = 30                        # a = 30\n",
        "# while a > 20:                 # True \n",
        "#   print(\"Value of a :\", a)    # \n",
        "#   a = a + 1                   # a = 31\n",
        "# # This is infinite loop, please do not run this"
      ],
      "execution_count": 18,
      "outputs": []
    },
    {
      "cell_type": "code",
      "metadata": {
        "id": "QGEQbX5DJ0ex"
      },
      "source": [
        "# Select multiple lines and press Ctrl + / to make comments in multiple lines"
      ],
      "execution_count": 19,
      "outputs": []
    },
    {
      "cell_type": "code",
      "metadata": {
        "id": "KEpKhNj9Jngn",
        "outputId": "e3c3ad45-0dfb-4b5e-844c-dc7ed00debab",
        "colab": {
          "base_uri": "https://localhost:8080/",
          "height": 193
        }
      },
      "source": [
        "a = 30                        # a = 30\n",
        "while a > 20:                 # True \n",
        "  print(\"Value of a :\", a)    # \n",
        "  a = a - 1                   # a = 31"
      ],
      "execution_count": 20,
      "outputs": [
        {
          "output_type": "stream",
          "text": [
            "Value of a : 30\n",
            "Value of a : 29\n",
            "Value of a : 28\n",
            "Value of a : 27\n",
            "Value of a : 26\n",
            "Value of a : 25\n",
            "Value of a : 24\n",
            "Value of a : 23\n",
            "Value of a : 22\n",
            "Value of a : 21\n"
          ],
          "name": "stdout"
        }
      ]
    },
    {
      "cell_type": "code",
      "metadata": {
        "id": "anOl3_SzKHNp"
      },
      "source": [
        "# use \"while\" with caution "
      ],
      "execution_count": 21,
      "outputs": []
    },
    {
      "cell_type": "code",
      "metadata": {
        "id": "-8Q6uf29KUfZ"
      },
      "source": [
        "# when will we use \":\" - for, if, while, functions, class"
      ],
      "execution_count": null,
      "outputs": []
    },
    {
      "cell_type": "code",
      "metadata": {
        "id": "j8DHZSOtLOiF",
        "outputId": "5aaff8fc-5d12-44f9-9228-c856f8c51a5a",
        "colab": {
          "base_uri": "https://localhost:8080/",
          "height": 193
        }
      },
      "source": [
        "print(\"Some code ...\")\n",
        "print(\"Some code again ...\")\n",
        "print(\"Some code ...\")\n",
        "print(\"Some code ...\")\n",
        "print(\"Some code ...\")\n",
        "print(\"Some code ...\")\n",
        "\n",
        "for i in range(3):\n",
        "  print(\"Inside for loop\")\n",
        "b = 2\n",
        "print(\"Some code ...\")"
      ],
      "execution_count": 23,
      "outputs": [
        {
          "output_type": "stream",
          "text": [
            "Some code ...\n",
            "Some code again ...\n",
            "Some code ...\n",
            "Some code ...\n",
            "Some code ...\n",
            "Some code ...\n",
            "Inside for loop\n",
            "Inside for loop\n",
            "Inside for loop\n",
            "Some code ...\n"
          ],
          "name": "stdout"
        }
      ]
    },
    {
      "cell_type": "code",
      "metadata": {
        "id": "YEMPuxasLt5p"
      },
      "source": [
        "# Tuples - like list but with no modifications "
      ],
      "execution_count": 25,
      "outputs": []
    },
    {
      "cell_type": "code",
      "metadata": {
        "id": "w-dJ68zXMH84"
      },
      "source": [
        "a = (1,2,3,4,5,1,1,100)"
      ],
      "execution_count": 32,
      "outputs": []
    },
    {
      "cell_type": "code",
      "metadata": {
        "id": "t4CnbH1vMb5O",
        "outputId": "976372e6-8778-442e-9c7e-a32ec0278c12",
        "colab": {
          "base_uri": "https://localhost:8080/",
          "height": 34
        }
      },
      "source": [
        "type(a)"
      ],
      "execution_count": 27,
      "outputs": [
        {
          "output_type": "execute_result",
          "data": {
            "text/plain": [
              "tuple"
            ]
          },
          "metadata": {
            "tags": []
          },
          "execution_count": 27
        }
      ]
    },
    {
      "cell_type": "code",
      "metadata": {
        "id": "fJvKS7TtMcvZ",
        "outputId": "4e93cdc6-4768-40e2-b610-36466910b12f",
        "colab": {
          "base_uri": "https://localhost:8080/",
          "height": 34
        }
      },
      "source": [
        "a.count(1)"
      ],
      "execution_count": 29,
      "outputs": [
        {
          "output_type": "execute_result",
          "data": {
            "text/plain": [
              "3"
            ]
          },
          "metadata": {
            "tags": []
          },
          "execution_count": 29
        }
      ]
    },
    {
      "cell_type": "code",
      "metadata": {
        "id": "nA5wvhObMsP4",
        "outputId": "94a84839-7275-4e4d-9698-f18332aa64e6",
        "colab": {
          "base_uri": "https://localhost:8080/",
          "height": 34
        }
      },
      "source": [
        "a.index(100)"
      ],
      "execution_count": 30,
      "outputs": [
        {
          "output_type": "execute_result",
          "data": {
            "text/plain": [
              "7"
            ]
          },
          "metadata": {
            "tags": []
          },
          "execution_count": 30
        }
      ]
    },
    {
      "cell_type": "code",
      "metadata": {
        "id": "RG8ZwYFsNPVx",
        "outputId": "4beb8c22-14e9-4682-e6d9-2b640dbfa864",
        "colab": {
          "base_uri": "https://localhost:8080/",
          "height": 167
        }
      },
      "source": [
        "a.index(50000)"
      ],
      "execution_count": 33,
      "outputs": [
        {
          "output_type": "error",
          "ename": "ValueError",
          "evalue": "ignored",
          "traceback": [
            "\u001b[0;31m---------------------------------------------------------------------------\u001b[0m",
            "\u001b[0;31mValueError\u001b[0m                                Traceback (most recent call last)",
            "\u001b[0;32m<ipython-input-33-5a10772d10b4>\u001b[0m in \u001b[0;36m<module>\u001b[0;34m()\u001b[0m\n\u001b[0;32m----> 1\u001b[0;31m \u001b[0ma\u001b[0m\u001b[0;34m.\u001b[0m\u001b[0mindex\u001b[0m\u001b[0;34m(\u001b[0m\u001b[0;36m50000\u001b[0m\u001b[0;34m)\u001b[0m\u001b[0;34m\u001b[0m\u001b[0;34m\u001b[0m\u001b[0m\n\u001b[0m",
            "\u001b[0;31mValueError\u001b[0m: tuple.index(x): x not in tuple"
          ]
        }
      ]
    },
    {
      "cell_type": "code",
      "metadata": {
        "id": "R1zjrXAiMuSJ"
      },
      "source": [
        "user_pass = (\"python@example.com\", \"Python@6475\")"
      ],
      "execution_count": 31,
      "outputs": []
    },
    {
      "cell_type": "code",
      "metadata": {
        "id": "R5m1TaiXM-ly",
        "outputId": "eb22a265-712b-44f7-a755-015b1832ceb4",
        "colab": {
          "base_uri": "https://localhost:8080/",
          "height": 34
        }
      },
      "source": [
        "list(user_pass)"
      ],
      "execution_count": 34,
      "outputs": [
        {
          "output_type": "execute_result",
          "data": {
            "text/plain": [
              "['python@example.com', 'Python@6475']"
            ]
          },
          "metadata": {
            "tags": []
          },
          "execution_count": 34
        }
      ]
    },
    {
      "cell_type": "code",
      "metadata": {
        "id": "tcADeVoNNeXw",
        "outputId": "1e07584f-9dd1-4e99-9ed9-cf7448a114e3",
        "colab": {
          "base_uri": "https://localhost:8080/",
          "height": 34
        }
      },
      "source": [
        "tuple(a)"
      ],
      "execution_count": 35,
      "outputs": [
        {
          "output_type": "execute_result",
          "data": {
            "text/plain": [
              "(1, 2, 3, 4, 5, 1, 1, 100)"
            ]
          },
          "metadata": {
            "tags": []
          },
          "execution_count": 35
        }
      ]
    },
    {
      "cell_type": "code",
      "metadata": {
        "id": "Xlo1EuE_Njzh",
        "outputId": "f138f0e3-6d00-4ff6-cea0-deb74ec9f428",
        "colab": {
          "base_uri": "https://localhost:8080/",
          "height": 34
        }
      },
      "source": [
        "list(range(1, 15, 2))   # start, stop, step(default value is 1)"
      ],
      "execution_count": 38,
      "outputs": [
        {
          "output_type": "execute_result",
          "data": {
            "text/plain": [
              "[1, 3, 5, 7, 9, 11, 13]"
            ]
          },
          "metadata": {
            "tags": []
          },
          "execution_count": 38
        }
      ]
    },
    {
      "cell_type": "code",
      "metadata": {
        "id": "ukDZ6kIeN-n-",
        "outputId": "f0b1a926-8718-47a3-bcbe-4a3e87514742",
        "colab": {
          "base_uri": "https://localhost:8080/",
          "height": 34
        }
      },
      "source": [
        "list(range(10))        # start (deafult value is 0) , step = 1"
      ],
      "execution_count": 39,
      "outputs": [
        {
          "output_type": "execute_result",
          "data": {
            "text/plain": [
              "[0, 1, 2, 3, 4, 5, 6, 7, 8, 9]"
            ]
          },
          "metadata": {
            "tags": []
          },
          "execution_count": 39
        }
      ]
    },
    {
      "cell_type": "code",
      "metadata": {
        "id": "WDs4BK0hOOp4"
      },
      "source": [
        ""
      ],
      "execution_count": 39,
      "outputs": []
    },
    {
      "cell_type": "code",
      "metadata": {
        "id": "gGFbcwkfOhfJ"
      },
      "source": [
        ""
      ],
      "execution_count": null,
      "outputs": []
    },
    {
      "cell_type": "code",
      "metadata": {
        "id": "hvG4ZgLKOhi7"
      },
      "source": [
        ""
      ],
      "execution_count": null,
      "outputs": []
    },
    {
      "cell_type": "code",
      "metadata": {
        "id": "i0mr-xT8Ohsh"
      },
      "source": [
        ""
      ],
      "execution_count": null,
      "outputs": []
    },
    {
      "cell_type": "code",
      "metadata": {
        "id": "AhXv9IYoOhwo"
      },
      "source": [
        "# f strings "
      ],
      "execution_count": null,
      "outputs": []
    },
    {
      "cell_type": "code",
      "metadata": {
        "id": "3EI3UHwuOhqY",
        "outputId": "e74a9cbc-3469-4fda-e326-648b6c11fcd3",
        "colab": {
          "base_uri": "https://localhost:8080/",
          "height": 34
        }
      },
      "source": [
        "a = 10 \n",
        "print(f\"This is a f-string and you can see value if a is {a}\")"
      ],
      "execution_count": 89,
      "outputs": [
        {
          "output_type": "stream",
          "text": [
            "This is a f-string and you can see value if a is 10\n"
          ],
          "name": "stdout"
        }
      ]
    },
    {
      "cell_type": "code",
      "metadata": {
        "id": "l3OQCrp5Ohmi"
      },
      "source": [
        "## Functions"
      ],
      "execution_count": 40,
      "outputs": []
    },
    {
      "cell_type": "code",
      "metadata": {
        "id": "zlS9y4ajOjbZ"
      },
      "source": [
        "def email(student_name):\n",
        "  print(f\"Hello {student_name}\\nHope you & your family are doing great! \\n\\nThis email is to inform you that your final year exams have been cancelled :) :) :) \\n\\nThanks \\nYours ..... \")"
      ],
      "execution_count": 43,
      "outputs": []
    },
    {
      "cell_type": "code",
      "metadata": {
        "id": "QY2WmKXCPhwB",
        "outputId": "625a4afa-4f40-458d-a2d7-83ee5caa1d13",
        "colab": {
          "base_uri": "https://localhost:8080/",
          "height": 140
        }
      },
      "source": [
        "email(\"Shivam\")"
      ],
      "execution_count": 44,
      "outputs": [
        {
          "output_type": "stream",
          "text": [
            "Hello Shivam\n",
            "Hope you & your family are doing great! \n",
            "\n",
            "This email is to inform you that your final year exams have been cancelled :) :) :) \n",
            "\n",
            "Thanks \n",
            "Yours ..... \n"
          ],
          "name": "stdout"
        }
      ]
    },
    {
      "cell_type": "code",
      "metadata": {
        "id": "yFQUviFHPr1O",
        "outputId": "53c199ea-9606-44a5-fdcc-3d6a30b4eaca",
        "colab": {
          "base_uri": "https://localhost:8080/",
          "height": 140
        }
      },
      "source": [
        "email(\"Guido\")"
      ],
      "execution_count": 45,
      "outputs": [
        {
          "output_type": "stream",
          "text": [
            "Hello Guido\n",
            "Hope you & your family are doing great! \n",
            "\n",
            "This email is to inform you that your final year exams have been cancelled :) :) :) \n",
            "\n",
            "Thanks \n",
            "Yours ..... \n"
          ],
          "name": "stdout"
        }
      ]
    },
    {
      "cell_type": "code",
      "metadata": {
        "id": "WOq4vQxqPmkm",
        "outputId": "9700f1f6-d002-4cdc-d70f-e87812b2322a",
        "colab": {
          "base_uri": "https://localhost:8080/",
          "height": 140
        }
      },
      "source": [
        "email(\"Donald\")"
      ],
      "execution_count": 46,
      "outputs": [
        {
          "output_type": "stream",
          "text": [
            "Hello Donald\n",
            "Hope you & your family are doing great! \n",
            "\n",
            "This email is to inform you that your final year exams have been cancelled :) :) :) \n",
            "\n",
            "Thanks \n",
            "Yours ..... \n"
          ],
          "name": "stdout"
        }
      ]
    },
    {
      "cell_type": "code",
      "metadata": {
        "id": "CrqoTEeOXUX2"
      },
      "source": [
        ""
      ],
      "execution_count": null,
      "outputs": []
    },
    {
      "cell_type": "code",
      "metadata": {
        "id": "Q_M7mgrRPxUd"
      },
      "source": [
        "def hw():               # reserved keyword def , function_name, parenthesis is required, inside parenthesis input parameter\n",
        "  print(\"Hello World\")  # Things to do when a function is called "
      ],
      "execution_count": 48,
      "outputs": []
    },
    {
      "cell_type": "code",
      "metadata": {
        "id": "Q_cnipwVQhGT",
        "outputId": "02f57aac-1bcd-4cdb-d75e-102ed3aa125f",
        "colab": {
          "base_uri": "https://localhost:8080/",
          "height": 34
        }
      },
      "source": [
        "hw()                    # Calling a function"
      ],
      "execution_count": 49,
      "outputs": [
        {
          "output_type": "stream",
          "text": [
            "Hello World\n"
          ],
          "name": "stdout"
        }
      ]
    },
    {
      "cell_type": "code",
      "metadata": {
        "id": "BxIbjnDuQrln"
      },
      "source": [
        "def esum():              # esum is the name of function, \n",
        "  c = 10 + 2             # it has to perform 10 + 2 \n",
        "  return c               # and not printing rather returning the result"
      ],
      "execution_count": 50,
      "outputs": []
    },
    {
      "cell_type": "code",
      "metadata": {
        "id": "1AbibQPzRJJ_",
        "outputId": "9f3b4adb-fbbd-4cf1-d072-c0e5d48b6b04",
        "colab": {
          "base_uri": "https://localhost:8080/",
          "height": 34
        }
      },
      "source": [
        "result = esum()\n",
        "print(result)"
      ],
      "execution_count": 53,
      "outputs": [
        {
          "output_type": "stream",
          "text": [
            "12\n"
          ],
          "name": "stdout"
        }
      ]
    },
    {
      "cell_type": "code",
      "metadata": {
        "id": "iGVXwsBaRVcm"
      },
      "source": [
        "def esum(a, b):                # esum is the name of function, we are asking user to input 2 parameters \n",
        "  c = a + b                    # we perform operation on a & b \n",
        "  return c                     # and not printing rather returning the result"
      ],
      "execution_count": 54,
      "outputs": []
    },
    {
      "cell_type": "code",
      "metadata": {
        "id": "ngUNIbPSR98E",
        "outputId": "b2a0c346-0e2a-4643-f8bc-7a113f0d659b",
        "colab": {
          "base_uri": "https://localhost:8080/",
          "height": 34
        }
      },
      "source": [
        "esum(10, 12)"
      ],
      "execution_count": 56,
      "outputs": [
        {
          "output_type": "execute_result",
          "data": {
            "text/plain": [
              "22"
            ]
          },
          "metadata": {
            "tags": []
          },
          "execution_count": 56
        }
      ]
    },
    {
      "cell_type": "code",
      "metadata": {
        "id": "yNn20wGFSBxO",
        "outputId": "f604cb61-544a-4e89-dccd-01636f6c88a5",
        "colab": {
          "base_uri": "https://localhost:8080/",
          "height": 34
        }
      },
      "source": [
        "esum(10, 15)"
      ],
      "execution_count": 57,
      "outputs": [
        {
          "output_type": "execute_result",
          "data": {
            "text/plain": [
              "25"
            ]
          },
          "metadata": {
            "tags": []
          },
          "execution_count": 57
        }
      ]
    },
    {
      "cell_type": "code",
      "metadata": {
        "id": "pPg9U2XFSJJk",
        "outputId": "1ac16857-6f5c-49a5-8b0a-873b0a0918ce",
        "colab": {
          "base_uri": "https://localhost:8080/",
          "height": 34
        }
      },
      "source": [
        "esum(10, 95)"
      ],
      "execution_count": 58,
      "outputs": [
        {
          "output_type": "execute_result",
          "data": {
            "text/plain": [
              "105"
            ]
          },
          "metadata": {
            "tags": []
          },
          "execution_count": 58
        }
      ]
    },
    {
      "cell_type": "code",
      "metadata": {
        "id": "0AlfD1DHSK8a"
      },
      "source": [
        "def ecalc (a, b, operation):\n",
        "  \"\"\"\n",
        "  ecalc - is a e calculator currently supporting addition and substraction. \n",
        "  params: a(int/float) - the first parameter \n",
        "  params: b(int/float) - the second parameter\n",
        "  params: operation(str) - Either sum or sub\n",
        "  \"\"\"\n",
        "  if operation == \"sum\":\n",
        "    print(\"XYZ\")\n",
        "    return a + b\n",
        "    print(\"ABC\")              # The function is closed as soon as it encounters return statement, anything below it is not compliled! \n",
        "  elif operation == \"sub\":\n",
        "    return a -b \n",
        "  else:\n",
        "    return 0"
      ],
      "execution_count": 74,
      "outputs": []
    },
    {
      "cell_type": "code",
      "metadata": {
        "id": "hJFYVqOASiBP",
        "outputId": "8eedc234-24a7-4376-db82-6d22cd591349",
        "colab": {
          "base_uri": "https://localhost:8080/",
          "height": 52
        }
      },
      "source": [
        "ecalc(10, 5, \"sum\")"
      ],
      "execution_count": 75,
      "outputs": [
        {
          "output_type": "stream",
          "text": [
            "XYZ\n"
          ],
          "name": "stdout"
        },
        {
          "output_type": "execute_result",
          "data": {
            "text/plain": [
              "15"
            ]
          },
          "metadata": {
            "tags": []
          },
          "execution_count": 75
        }
      ]
    },
    {
      "cell_type": "code",
      "metadata": {
        "id": "eWOB3yiWSkxq",
        "outputId": "eec3d732-ed24-4826-8b4d-981f2274c7d8",
        "colab": {
          "base_uri": "https://localhost:8080/",
          "height": 34
        }
      },
      "source": [
        "ecalc(10, 5, \"sub\")"
      ],
      "execution_count": 76,
      "outputs": [
        {
          "output_type": "execute_result",
          "data": {
            "text/plain": [
              "5"
            ]
          },
          "metadata": {
            "tags": []
          },
          "execution_count": 76
        }
      ]
    },
    {
      "cell_type": "code",
      "metadata": {
        "id": "x0dnWqceTBUc",
        "outputId": "132f3a46-5cd2-496c-8c1b-67027521e238",
        "colab": {
          "base_uri": "https://localhost:8080/",
          "height": 122
        }
      },
      "source": [
        "print(ecalc.__doc__)"
      ],
      "execution_count": 73,
      "outputs": [
        {
          "output_type": "stream",
          "text": [
            "\n",
            "  ecalc - is a e calculator currently supporting addition and substraction. \n",
            "  params: a(int/float) - the first parameter \n",
            "  params: b(int/float) - the second parameter\n",
            "  params: operation(str) - Either sum or sub\n",
            "  \n"
          ],
          "name": "stdout"
        }
      ]
    },
    {
      "cell_type": "code",
      "metadata": {
        "id": "x3eYfdpiVqyg"
      },
      "source": [
        "# using print \n",
        "def hw():\n",
        "  print(\"Hello World\")"
      ],
      "execution_count": 77,
      "outputs": []
    },
    {
      "cell_type": "code",
      "metadata": {
        "id": "NGDwwaJDV8gj",
        "outputId": "7f637a9f-b9e6-4280-8493-31ec77d62493",
        "colab": {
          "base_uri": "https://localhost:8080/",
          "height": 34
        }
      },
      "source": [
        "result = hw()"
      ],
      "execution_count": 79,
      "outputs": [
        {
          "output_type": "stream",
          "text": [
            "Hello World\n"
          ],
          "name": "stdout"
        }
      ]
    },
    {
      "cell_type": "code",
      "metadata": {
        "id": "FodttgoJV9Pj",
        "outputId": "1ad0d13a-48a1-47f6-881f-8ee5d090f9bf",
        "colab": {
          "base_uri": "https://localhost:8080/",
          "height": 34
        }
      },
      "source": [
        "print(result)"
      ],
      "execution_count": 80,
      "outputs": [
        {
          "output_type": "stream",
          "text": [
            "None\n"
          ],
          "name": "stdout"
        }
      ]
    },
    {
      "cell_type": "code",
      "metadata": {
        "id": "_SY6H4QxWAsu"
      },
      "source": [
        "# using return \n",
        "def hw():\n",
        "  return \"Hello World\""
      ],
      "execution_count": 81,
      "outputs": []
    },
    {
      "cell_type": "code",
      "metadata": {
        "id": "ZT_Ywnm9WFaa"
      },
      "source": [
        "result = hw()"
      ],
      "execution_count": 83,
      "outputs": []
    },
    {
      "cell_type": "code",
      "metadata": {
        "id": "EhZr846FWGRQ",
        "outputId": "3a717439-92c7-43ff-9045-a70228f5779c",
        "colab": {
          "base_uri": "https://localhost:8080/",
          "height": 35
        }
      },
      "source": [
        "result"
      ],
      "execution_count": 84,
      "outputs": [
        {
          "output_type": "execute_result",
          "data": {
            "application/vnd.google.colaboratory.intrinsic+json": {
              "type": "string"
            },
            "text/plain": [
              "'Hello World'"
            ]
          },
          "metadata": {
            "tags": []
          },
          "execution_count": 84
        }
      ]
    },
    {
      "cell_type": "code",
      "metadata": {
        "id": "KgAkeBq7WIqu",
        "outputId": "a07f4ea3-6bc3-4c26-8811-c9195f01e271",
        "colab": {
          "base_uri": "https://localhost:8080/",
          "height": 69
        }
      },
      "source": [
        "alist = [[1,2,3], [4,5,6], [7,8,9]]\n",
        "for i in alist:\n",
        "  print(i)"
      ],
      "execution_count": 85,
      "outputs": [
        {
          "output_type": "stream",
          "text": [
            "[1, 2, 3]\n",
            "[4, 5, 6]\n",
            "[7, 8, 9]\n"
          ],
          "name": "stdout"
        }
      ]
    },
    {
      "cell_type": "code",
      "metadata": {
        "id": "uxn8uaayWi1g",
        "outputId": "78877f52-03ef-4e36-c02c-853a20b9063b",
        "colab": {
          "base_uri": "https://localhost:8080/",
          "height": 175
        }
      },
      "source": [
        "alist = [[1,2,3], [4,5,6], [7,8,9]]\n",
        "for i in alist:\n",
        "  for j in i:\n",
        "    print(j)"
      ],
      "execution_count": 86,
      "outputs": [
        {
          "output_type": "stream",
          "text": [
            "1\n",
            "2\n",
            "3\n",
            "4\n",
            "5\n",
            "6\n",
            "7\n",
            "8\n",
            "9\n"
          ],
          "name": "stdout"
        }
      ]
    },
    {
      "cell_type": "code",
      "metadata": {
        "id": "SFxzF4w6Ws1v",
        "outputId": "c6200c70-45be-433f-8cd6-26e07e8a2ff8",
        "colab": {
          "base_uri": "https://localhost:8080/",
          "height": 122
        }
      },
      "source": [
        "rows=int(input(\"Enter rows: \"))\n",
        "for r in range(1, rows+1):         #1,2,3,4,5\n",
        "    for c in range(1, r+1):\n",
        "        print(\"*\",end=' ')\n",
        "    print(\" \") "
      ],
      "execution_count": 92,
      "outputs": [
        {
          "output_type": "stream",
          "text": [
            "Enter rows: 5\n",
            "*  \n",
            "* *  \n",
            "* * *  \n",
            "* * * *  \n",
            "* * * * *  \n"
          ],
          "name": "stdout"
        }
      ]
    },
    {
      "cell_type": "code",
      "metadata": {
        "id": "nEeJucjHX2WH",
        "outputId": "5cb68e94-a691-4b2a-e953-5f097b472022",
        "colab": {
          "base_uri": "https://localhost:8080/",
          "height": 69
        }
      },
      "source": [
        "print(\"a\\n\\nb\")"
      ],
      "execution_count": 93,
      "outputs": [
        {
          "output_type": "stream",
          "text": [
            "a\n",
            "\n",
            "b\n"
          ],
          "name": "stdout"
        }
      ]
    },
    {
      "cell_type": "code",
      "metadata": {
        "id": "Hpu2W5wKYL7e",
        "outputId": "3df8cd8a-58f7-4900-8bc9-552cab701ac3",
        "colab": {
          "base_uri": "https://localhost:8080/",
          "height": 386
        }
      },
      "source": [
        "rows=int(input(\"Enter rows: \"))\n",
        "for r in range(1, rows+1):         \n",
        "    for c in range(1, r+1):\n",
        "        print(\"*\")\n",
        "    print(\" \") "
      ],
      "execution_count": 95,
      "outputs": [
        {
          "output_type": "stream",
          "text": [
            "Enter rows: 5\n",
            "*\n",
            " \n",
            "*\n",
            "*\n",
            " \n",
            "*\n",
            "*\n",
            "*\n",
            " \n",
            "*\n",
            "*\n",
            "*\n",
            "*\n",
            " \n",
            "*\n",
            "*\n",
            "*\n",
            "*\n",
            "*\n",
            " \n"
          ],
          "name": "stdout"
        }
      ]
    },
    {
      "cell_type": "code",
      "metadata": {
        "id": "ZEY5bQ0fZWy_",
        "outputId": "81413a8b-6837-4632-db2b-3c18c5da9dcd",
        "colab": {
          "base_uri": "https://localhost:8080/",
          "height": 34
        }
      },
      "source": [
        "print(\"Python\", end=\" \")\n",
        "print(\"JAVA\")"
      ],
      "execution_count": 100,
      "outputs": [
        {
          "output_type": "stream",
          "text": [
            "Python JAVA\n"
          ],
          "name": "stdout"
        }
      ]
    },
    {
      "cell_type": "code",
      "metadata": {
        "id": "cLO3g5TmaHkj"
      },
      "source": [
        "# ecalc()   #To see help of function - write func name and press Shift + Tab"
      ],
      "execution_count": 101,
      "outputs": []
    },
    {
      "cell_type": "code",
      "metadata": {
        "id": "UVCNBN4wakQ8",
        "outputId": "5de73863-509a-49b6-db08-06ea292a54e1",
        "colab": {
          "base_uri": "https://localhost:8080/",
          "height": 105
        }
      },
      "source": [
        "alist = [10, 15, 20, 25 , 30]\n",
        "for i in alist:\n",
        "  print(i)"
      ],
      "execution_count": 102,
      "outputs": [
        {
          "output_type": "stream",
          "text": [
            "10\n",
            "15\n",
            "20\n",
            "25\n",
            "30\n"
          ],
          "name": "stdout"
        }
      ]
    },
    {
      "cell_type": "code",
      "metadata": {
        "id": "NASTtwMHbDJX",
        "outputId": "77b4da25-b09a-4529-ea38-2d4bf9bc1c0a",
        "colab": {
          "base_uri": "https://localhost:8080/",
          "height": 34
        }
      },
      "source": [
        "alist = [10, 15, 20, 25 , 30]\n",
        "for i in alist:\n",
        "  print(i, end=\" - \")"
      ],
      "execution_count": 104,
      "outputs": [
        {
          "output_type": "stream",
          "text": [
            "10 - 15 - 20 - 25 - 30 - "
          ],
          "name": "stdout"
        }
      ]
    },
    {
      "cell_type": "code",
      "metadata": {
        "id": "N_uCARRLbGqU",
        "outputId": "1f80c4f1-f949-4d47-d3ba-69bba54a47be",
        "colab": {
          "base_uri": "https://localhost:8080/",
          "height": 35
        }
      },
      "source": [
        "\"\"\"\n",
        "* * * * * \n",
        "* * * * \n",
        "* * * \n",
        "* * \n",
        "* \n",
        "\"\"\""
      ],
      "execution_count": 105,
      "outputs": [
        {
          "output_type": "execute_result",
          "data": {
            "application/vnd.google.colaboratory.intrinsic+json": {
              "type": "string"
            },
            "text/plain": [
              "'\\n* * * * * \\n* * * * \\n* * * \\n* * \\n* \\n'"
            ]
          },
          "metadata": {
            "tags": []
          },
          "execution_count": 105
        }
      ]
    },
    {
      "cell_type": "code",
      "metadata": {
        "id": "Cer_Ansnbdxr"
      },
      "source": [
        ""
      ],
      "execution_count": null,
      "outputs": []
    }
  ]
}